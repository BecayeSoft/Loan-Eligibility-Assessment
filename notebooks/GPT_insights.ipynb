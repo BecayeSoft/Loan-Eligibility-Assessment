{
 "cells": [
  {
   "cell_type": "markdown",
   "metadata": {},
   "source": [
    "# Generating insights from the model's predictions"
   ]
  },
  {
   "cell_type": "code",
   "execution_count": 31,
   "metadata": {},
   "outputs": [],
   "source": [
    "import sys\n",
    "sys.path.append('..')\n",
    "\n",
    "import pandas as pd\n",
    "import numpy as np\n",
    "np.set_printoptions(precision=3, suppress=True)\n",
    "\n",
    "from joblib import load\n",
    "\n",
    "# Interpretability\n",
    "import shap\n",
    "\n",
    "import os\n",
    "import openai\n",
    "from openai import OpenAI\n",
    "from dotenv import load_dotenv\n",
    "\n",
    "# Set transformers output to Pandas DataFrame instead of NumPy array\n",
    "from sklearn import set_config\n",
    "set_config(transform_output=\"pandas\")"
   ]
  },
  {
   "cell_type": "markdown",
   "metadata": {},
   "source": [
    "## Loading and prepare the data"
   ]
  },
  {
   "cell_type": "markdown",
   "metadata": {},
   "source": [
    "**Loading data**"
   ]
  },
  {
   "cell_type": "code",
   "execution_count": 32,
   "metadata": {},
   "outputs": [],
   "source": [
    "X_test = pd.read_csv('../data/raw/loan-data-test.csv')\n",
    "X_test.drop('Loan_ID', axis=1, inplace=True)"
   ]
  },
  {
   "cell_type": "markdown",
   "metadata": {},
   "source": [
    "**Loading preprocessing pipeline and model**"
   ]
  },
  {
   "cell_type": "code",
   "execution_count": 33,
   "metadata": {},
   "outputs": [],
   "source": [
    "with open('../models/model.pkl', 'rb') as f:\n",
    "    model = load(f)\n",
    "\n",
    "with open('../models/preprocessor.pkl', 'rb') as f:\n",
    "    preprocessor = load(f)"
   ]
  },
  {
   "cell_type": "markdown",
   "metadata": {},
   "source": [
    "**Preprocessing**"
   ]
  },
  {
   "cell_type": "code",
   "execution_count": 34,
   "metadata": {},
   "outputs": [],
   "source": [
    "# Mapping number of dependents to numerical values\n",
    "X_test.Dependents.replace('3+', 3, inplace=True)\n",
    "\n",
    "# Transforming the test set\n",
    "X_test = preprocessor.transform(X_test)"
   ]
  },
  {
   "cell_type": "markdown",
   "metadata": {},
   "source": [
    "## Getting the SHAP values"
   ]
  },
  {
   "cell_type": "markdown",
   "metadata": {},
   "source": [
    "**Unscaling the data**"
   ]
  },
  {
   "cell_type": "code",
   "execution_count": 35,
   "metadata": {},
   "outputs": [],
   "source": [
    "# Get the scaler and encoder object from the pipeline\n",
    "scaler = preprocessor.named_transformers_['numerical']['scaler']\n",
    "encoder = preprocessor.named_transformers_['categorical']['onehot']\n",
    "\n",
    "# Unscale the  data \n",
    "X_test_num_unscaled = scaler.inverse_transform(X_test[scaler.feature_names_in_])\n",
    "X_test_num_unscaled_df = pd.DataFrame(data=X_test_num_unscaled, columns=scaler.feature_names_in_)\n",
    "\n",
    "# Get the one-hot encoded features\n",
    "X_test_cat = X_test[encoder.get_feature_names_out()]\n",
    "\n",
    "# Reset the index before concatenation\n",
    "X_test_num_unscaled_df.reset_index(drop=True, inplace=True)\n",
    "X_test_cat.reset_index(drop=True, inplace=True)\n",
    "\n",
    "# Concat the unscaled numeric data and the categorical data\n",
    "X_test_unscaled = pd.concat([X_test_num_unscaled_df, X_test_cat], axis=1)"
   ]
  },
  {
   "cell_type": "markdown",
   "metadata": {},
   "source": [
    "### Creating a shap explainer"
   ]
  },
  {
   "cell_type": "code",
   "execution_count": 36,
   "metadata": {},
   "outputs": [],
   "source": [
    "explainer = shap.LinearExplainer(model, X_test)\n",
    "shap_explanation = explainer(X_test)\n",
    "\n",
    "# Replace the scaled values by the original ones\n",
    "shap_explanation.data = X_test_unscaled.values"
   ]
  },
  {
   "cell_type": "markdown",
   "metadata": {},
   "source": [
    "## Generate Insights"
   ]
  },
  {
   "cell_type": "code",
   "execution_count": 37,
   "metadata": {},
   "outputs": [],
   "source": [
    "feature_names = X_test.columns\n",
    "explanations_json = []\n",
    "i = 88\n",
    "\n",
    "# Predict the status\n",
    "predicted_status = model.predict(X_test.iloc[[i]])\n",
    "\n",
    "# Predict the probability\n",
    "predicted_proba = np.round(\n",
    "    model.predict_proba(X_test.iloc[[i]])[0][1] * 100\n",
    ").astype(int)\n",
    "\n",
    "# Get the explanation for the predicted status\n",
    "for name, value, shap_value in zip(feature_names, shap_explanation.data[i], shap_explanation.values[i]):\n",
    "    explanation_json = {}\n",
    "    explanation_json[\"Name\"] = name\n",
    "    explanation_json[\"Value\"] = value\n",
    "    explanation_json[\"SHAP Value\"] = shap_value\n",
    "    explanation_json[\"Effect on Approval\"] = \"Positive\" if shap_value > 0 else \"Negative\"\n",
    "\n",
    "    explanations_json.append(explanation_json)\n",
    "\n",
    "# explanations_json"
   ]
  },
  {
   "cell_type": "code",
   "execution_count": 38,
   "metadata": {},
   "outputs": [
    {
     "data": {
      "text/html": [
       "<div>\n",
       "<style scoped>\n",
       "    .dataframe tbody tr th:only-of-type {\n",
       "        vertical-align: middle;\n",
       "    }\n",
       "\n",
       "    .dataframe tbody tr th {\n",
       "        vertical-align: top;\n",
       "    }\n",
       "\n",
       "    .dataframe thead th {\n",
       "        text-align: right;\n",
       "    }\n",
       "</style>\n",
       "<table border=\"1\" class=\"dataframe\">\n",
       "  <thead>\n",
       "    <tr style=\"text-align: right;\">\n",
       "      <th></th>\n",
       "      <th>Name</th>\n",
       "      <th>Value</th>\n",
       "      <th>SHAP Value</th>\n",
       "      <th>Effect on Approval</th>\n",
       "    </tr>\n",
       "  </thead>\n",
       "  <tbody>\n",
       "    <tr>\n",
       "      <th>10</th>\n",
       "      <td>Credit_History_1.0</td>\n",
       "      <td>1.0</td>\n",
       "      <td>0.530722</td>\n",
       "      <td>Positive</td>\n",
       "    </tr>\n",
       "    <tr>\n",
       "      <th>8</th>\n",
       "      <td>Property_Area_Semiurban</td>\n",
       "      <td>1.0</td>\n",
       "      <td>0.328659</td>\n",
       "      <td>Positive</td>\n",
       "    </tr>\n",
       "    <tr>\n",
       "      <th>2</th>\n",
       "      <td>CoapplicantIncome</td>\n",
       "      <td>2015.0</td>\n",
       "      <td>0.253930</td>\n",
       "      <td>Positive</td>\n",
       "    </tr>\n",
       "    <tr>\n",
       "      <th>3</th>\n",
       "      <td>LoanAmount</td>\n",
       "      <td>77.0</td>\n",
       "      <td>0.144911</td>\n",
       "      <td>Positive</td>\n",
       "    </tr>\n",
       "    <tr>\n",
       "      <th>0</th>\n",
       "      <td>Dependents</td>\n",
       "      <td>2.0</td>\n",
       "      <td>0.121532</td>\n",
       "      <td>Positive</td>\n",
       "    </tr>\n",
       "    <tr>\n",
       "      <th>7</th>\n",
       "      <td>Property_Area_Rural</td>\n",
       "      <td>0.0</td>\n",
       "      <td>0.116017</td>\n",
       "      <td>Positive</td>\n",
       "    </tr>\n",
       "    <tr>\n",
       "      <th>9</th>\n",
       "      <td>Property_Area_Urban</td>\n",
       "      <td>0.0</td>\n",
       "      <td>0.034014</td>\n",
       "      <td>Positive</td>\n",
       "    </tr>\n",
       "    <tr>\n",
       "      <th>6</th>\n",
       "      <td>Self_Employed_Yes</td>\n",
       "      <td>0.0</td>\n",
       "      <td>0.026858</td>\n",
       "      <td>Positive</td>\n",
       "    </tr>\n",
       "    <tr>\n",
       "      <th>5</th>\n",
       "      <td>Gender_Male</td>\n",
       "      <td>1.0</td>\n",
       "      <td>-0.011941</td>\n",
       "      <td>Negative</td>\n",
       "    </tr>\n",
       "    <tr>\n",
       "      <th>4</th>\n",
       "      <td>Loan_Amount_Term</td>\n",
       "      <td>360.0</td>\n",
       "      <td>-0.005629</td>\n",
       "      <td>Negative</td>\n",
       "    </tr>\n",
       "    <tr>\n",
       "      <th>1</th>\n",
       "      <td>ApplicantIncome</td>\n",
       "      <td>3235.0</td>\n",
       "      <td>0.003905</td>\n",
       "      <td>Positive</td>\n",
       "    </tr>\n",
       "  </tbody>\n",
       "</table>\n",
       "</div>"
      ],
      "text/plain": [
       "                       Name   Value  SHAP Value Effect on Approval\n",
       "10       Credit_History_1.0     1.0    0.530722           Positive\n",
       "8   Property_Area_Semiurban     1.0    0.328659           Positive\n",
       "2         CoapplicantIncome  2015.0    0.253930           Positive\n",
       "3                LoanAmount    77.0    0.144911           Positive\n",
       "0                Dependents     2.0    0.121532           Positive\n",
       "7       Property_Area_Rural     0.0    0.116017           Positive\n",
       "9       Property_Area_Urban     0.0    0.034014           Positive\n",
       "6         Self_Employed_Yes     0.0    0.026858           Positive\n",
       "5               Gender_Male     1.0   -0.011941           Negative\n",
       "4          Loan_Amount_Term   360.0   -0.005629           Negative\n",
       "1           ApplicantIncome  3235.0    0.003905           Positive"
      ]
     },
     "execution_count": 38,
     "metadata": {},
     "output_type": "execute_result"
    }
   ],
   "source": [
    "explanations_df = pd.DataFrame(explanations_json)\n",
    "\n",
    "# Sort feature by impact score\n",
    "explanations_df[\"SHAP Value (Abs)\"] = explanations_df[\"SHAP Value\"].abs()\n",
    "explanations_df.sort_values(by=\"SHAP Value (Abs)\", ascending=False, inplace=True)\n",
    "explanations_df.drop(\"SHAP Value (Abs)\", axis=1, inplace=True)\n",
    "explanations_df"
   ]
  },
  {
   "cell_type": "markdown",
   "metadata": {},
   "source": [
    "## Generation GPT predictions"
   ]
  },
  {
   "cell_type": "code",
   "execution_count": 39,
   "metadata": {},
   "outputs": [],
   "source": [
    "_ = load_dotenv(\"../credentials.env\")\n",
    "openai.api_key = os.environ['OPENAI_API_KEY']"
   ]
  },
  {
   "cell_type": "code",
   "execution_count": 60,
   "metadata": {},
   "outputs": [
    {
     "name": "stdout",
     "output_type": "stream",
     "text": [
      "\n",
      "Below are the definitions of the features:\n",
      "- Dependents: Number of dependents of the applicant \n",
      "- ApplicantIncome: Income of the applicant\n",
      "- CoapplicantIncome: Income of the co-applicant\n",
      "- LoanAmount: Loan amount in thousands\n",
      "- Loan_Amount_Term: Term of the loan in months\n",
      "- Gender_Male: 1 if the applicant is a male, 0 otherwise\n",
      "- Self_Employed_Yes: 1 if the applicant is self-employed, 0 otherwise\n",
      "- Property_Area_Rural: 1 if the property is in a rural area, 0 otherwise\n",
      "- Property_Area_Semiurban: 1 if the property is in a semiurban area, 0 otherwise\n",
      "- Property_Area_Urban: 1 if the property is in an urban area, 0 otherwise\n",
      "- Credit_History_1.0: 1 if the applicant has a credit history, 0 otherwise\n",
      "\n",
      "Below are the names, values, SHAP values, and effects for each prediction in a JSON format:\n",
      "[{'Name': 'Dependents', 'Value': 2.0, 'SHAP Value': 0.12153182486780074, 'Effect on Approval': 'Positive'}, {'Name': 'ApplicantIncome', 'Value': 3235.000000000001, 'SHAP Value': 0.003905107913558934, 'Effect on Approval': 'Positive'}, {'Name': 'CoapplicantIncome', 'Value': 2015.0000000000014, 'SHAP Value': 0.25392953805787455, 'Effect on Approval': 'Positive'}, {'Name': 'LoanAmount', 'Value': 77.00000000000004, 'SHAP Value': 0.1449114621787927, 'Effect on Approval': 'Positive'}, {'Name': 'Loan_Amount_Term', 'Value': 360.00000000000006, 'SHAP Value': -0.005628890210890795, 'Effect on Approval': 'Negative'}, {'Name': 'Gender_Male', 'Value': 1.0, 'SHAP Value': -0.011940938055301362, 'Effect on Approval': 'Negative'}, {'Name': 'Self_Employed_Yes', 'Value': 0.0, 'SHAP Value': 0.026858270835239666, 'Effect on Approval': 'Positive'}, {'Name': 'Property_Area_Rural', 'Value': 0.0, 'SHAP Value': 0.11601698412773537, 'Effect on Approval': 'Positive'}, {'Name': 'Property_Area_Semiurban', 'Value': 1.0, 'SHAP Value': 0.3286592753540626, 'Effect on Approval': 'Positive'}, {'Name': 'Property_Area_Urban', 'Value': 0.0, 'SHAP Value': 0.03401382472687187, 'Effect on Approval': 'Positive'}, {'Name': 'Credit_History_1.0', 'Value': 1.0, 'SHAP Value': 0.5307220385544934, 'Effect on Approval': 'Positive'}]\n",
      "\n",
      "Below is the prediction of the model:\n",
      "Predicted status: [1]\n",
      "Probability of approval: 80%\n",
      "\n",
      "Based on the information on feature names, values, SHAP values, and effects, \n",
      "generate a report to explain the model's decision in simple terms.\n",
      "\n"
     ]
    }
   ],
   "source": [
    "# You are a loan eligibility officer. \n",
    "# Behind our system, we use a machine learning model to predict the loan status of the applicant.\n",
    "system_prompt = \"\"\"\n",
    "The system evaluates loan applications using applicant data. \n",
    "You need to explain the system's decision, considering features and their impacts, and this explanation is tailored for the non-technical applicant. \n",
    "No greetings or closings are necessary. \n",
    "Emphasize the features that had the most influence on the system's decision and how they affected that decision.\n",
    "When you mention a feature, include the feature's name and value.\n",
    "Use the term \"system\" to reference the model and avoid technical jargon related to the SHAP values.\n",
    "\"\"\"\n",
    "\n",
    "# Removed features\n",
    "# - Married_Yes: 1 if the applicant is married, 0 otherwise\n",
    "# - Education_Not Graduate: 1 if the applicant is not a graduate, 0 otherwise\n",
    "\n",
    "query = f\"\"\"\n",
    "Below are the definitions of the features:\n",
    "- Dependents: Number of dependents of the applicant \n",
    "- ApplicantIncome: Income of the applicant\n",
    "- CoapplicantIncome: Income of the co-applicant\n",
    "- LoanAmount: Loan amount in thousands\n",
    "- Loan_Amount_Term: Term of the loan in months\n",
    "- Gender_Male: 1 if the applicant is a male, 0 otherwise\n",
    "- Self_Employed_Yes: 1 if the applicant is self-employed, 0 otherwise\n",
    "- Property_Area_Rural: 1 if the property is in a rural area, 0 otherwise\n",
    "- Property_Area_Semiurban: 1 if the property is in a semiurban area, 0 otherwise\n",
    "- Property_Area_Urban: 1 if the property is in an urban area, 0 otherwise\n",
    "- Credit_History_1.0: 1 if the applicant has a credit history, 0 otherwise\n",
    "\n",
    "Below are the names, values, SHAP values, and effects for each prediction in a JSON format:\n",
    "{explanations_json}\n",
    "\n",
    "Below is the prediction of the model:\n",
    "Predicted status: {predicted_status}\n",
    "Probability of approval: {predicted_proba}%\n",
    "\n",
    "Based on the information on feature names, values, SHAP values, and effects, \n",
    "generate a report to explain the model's decision in simple terms.\n",
    "\"\"\"\n",
    "\n",
    "print(query)"
   ]
  },
  {
   "cell_type": "code",
   "execution_count": 61,
   "metadata": {},
   "outputs": [],
   "source": [
    "def generate_response(system_prompt, query):\n",
    "\t\"\"\"Generate a response to a query based on a system prompt\"\"\"\n",
    "\tcompletion = openai.chat.completions.create(\n",
    "\t\tmodel=\"gpt-3.5-turbo\",\n",
    "\t\tmessages=[\n",
    "\t\t\t{\"role\": \"system\", \"content\": system_prompt},\n",
    "\t\t\t{\"role\": \"user\", \"content\": query}\n",
    "\t\t]\n",
    "\t)\n",
    "\n",
    "\treturn completion.choices[0].message.content\n",
    "\n",
    "response = generate_response(system_prompt, query)"
   ]
  },
  {
   "cell_type": "code",
   "execution_count": 62,
   "metadata": {},
   "outputs": [
    {
     "name": "stdout",
     "output_type": "stream",
     "text": [
      "The system has evaluated your loan application and made a decision based on various factors. Let's take a closer look at the features and their impacts:\n",
      "\n",
      "1. Dependents: This feature represents the number of dependents you have. In your case, you have 2 dependents. This feature has a positive impact on the approval decision, meaning that having more dependents increases the likelihood of approval.\n",
      "\n",
      "2. ApplicantIncome: This feature represents your income as the primary applicant. The system considers this feature as one of the factors for the decision. Your income of $3,235 has a positive but relatively small impact on the approval decision.\n",
      "\n",
      "3. CoapplicantIncome: This feature represents the income of the co-applicant, if applicable. In your case, the co-applicant's income is $2,015. This feature has a significant positive impact on the approval decision, indicating that higher co-applicant income increases the chances of approval.\n",
      "\n",
      "4. LoanAmount: This feature represents the requested loan amount in thousands. Your requested loan amount is $77,000. The system considers this feature and finds that it has a positive impact on the approval decision. It suggests that a higher loan amount increases the probability of approval.\n",
      "\n",
      "5. Loan_Amount_Term: This feature represents the term of the loan in months. In your case, the loan term is 360 months (30 years). The system considers this feature and finds that it has a negative impact on the approval decision. A longer loan term slightly decreases the chances of approval.\n",
      "\n",
      "6. Gender_Male: This feature indicates whether you are a male (1) or not (0). The system considers this feature and finds that being male has a negative impact on the approval decision. However, the impact is relatively small and not significant in your case.\n",
      "\n",
      "7. Self_Employed_Yes: This feature indicates if you are self-employed (1) or not (0). The system considers this feature and finds that being self-employed has a positive impact on the approval decision. It implies that being self-employed slightly increases the chances of approval.\n",
      "\n",
      "8. Property_Area_Rural, Property_Area_Semiurban, Property_Area_Urban: These features represent the property's location and indicate whether it is in a rural, semiurban, or urban area. The system considers these features and finds that having the property in a semiurban area has the most significant positive impact on the approval decision. It suggests that having the property in a semiurban area greatly increases the chances of approval.\n",
      "\n",
      "9. Credit_History_1.0: This feature indicates whether you have a credit history (1) or not (0). The system considers this feature and finds that having a credit history has the most significant positive impact on the approval decision. It indicates that having a credit history greatly increases the probability of approval.\n",
      "\n",
      "Based on all these features and their impacts, the system has predicted that your loan application will be approved. The system estimates an 80% probability of approval. It's important to note that each feature contributes differently to the final decision, with the number of dependents, coapplicant income, credit history, and property in a semiurban area having the most significant influences on the approval decision.\n"
     ]
    }
   ],
   "source": [
    "print(response)"
   ]
  },
  {
   "cell_type": "markdown",
   "metadata": {},
   "source": [
    "## Save the report"
   ]
  },
  {
   "cell_type": "code",
   "execution_count": 14,
   "metadata": {},
   "outputs": [
    {
     "name": "stdout",
     "output_type": "stream",
     "text": [
      "|    | Name                    |     Value |   Impact Score | Effect on Approval   |\n",
      "|---:|:------------------------|----------:|---------------:|:---------------------|\n",
      "| 12 | Credit_History_1.0      |  1        |      0.534333  | Positive             |\n",
      "|  2 | CoapplicantIncome       | -1.10284  |     -0.237314  | Negative             |\n",
      "|  6 | Married_Yes             |  1        |      0.181702  | Positive             |\n",
      "|  7 | Education_Not Graduate  |  0        |      0.119013  | Positive             |\n",
      "| 10 | Property_Area_Semiurban |  0        |     -0.113641  | Negative             |\n",
      "|  9 | Property_Area_Rural     |  0        |      0.106275  | Positive             |\n",
      "|  1 | ApplicantIncome         |  0.510576 |      0.0998845 | Positive             |\n",
      "| 11 | Property_Area_Urban     |  1        |     -0.0612738 | Negative             |\n",
      "|  5 | Gender_Male             |  1        |     -0.0386152 | Negative             |\n",
      "|  3 | LoanAmount              | -0.325043 |      0.032121  | Positive             |\n",
      "|  0 | Dependents              | -0.827104 |     -0.0226349 | Negative             |\n",
      "|  8 | Self_Employed_Yes       |  0        |      0.020177  | Positive             |\n",
      "|  4 | Loan_Amount_Term        |  0.17554  |     -0.0053518 | Negative             |\n"
     ]
    }
   ],
   "source": [
    "# Rename SHAP value to Impact Score for better understanding\n",
    "explanations_df.rename(columns={\"SHAP Value\": \"Impact Score\"}, inplace=True)\n",
    "\n",
    "# Convert my dataframe as markdown table\n",
    "print(explanations_df.to_markdown())"
   ]
  },
  {
   "cell_type": "code",
   "execution_count": 15,
   "metadata": {},
   "outputs": [],
   "source": [
    "# We will save the report as Markdown file\n",
    "# The report will contains the dataframe as a table and the response from GPT-3\n",
    "report = f\"\"\"\n",
    "# Loan Approval Decision Report\n",
    "\n",
    "## Applicant Information\n",
    "\n",
    "{explanations_df.to_markdown()}\n",
    "\n",
    "## Model Decision\n",
    "\n",
    "{response}\n",
    "\"\"\"\n",
    "\n",
    "with open('../reports/loan_approval_decision_report.md', 'w') as f:\n",
    "    f.write(report)"
   ]
  },
  {
   "cell_type": "code",
   "execution_count": 16,
   "metadata": {},
   "outputs": [
    {
     "name": "stdout",
     "output_type": "stream",
     "text": [
      "\n",
      "# Loan Approval Decision Report\n",
      "\n",
      "## Applicant Information\n",
      "\n",
      "|    | Name                    |     Value |   Impact Score | Effect on Approval   |\n",
      "|---:|:------------------------|----------:|---------------:|:---------------------|\n",
      "| 12 | Credit_History_1.0      |  1        |      0.534333  | Positive             |\n",
      "|  2 | CoapplicantIncome       | -1.10284  |     -0.237314  | Negative             |\n",
      "|  6 | Married_Yes             |  1        |      0.181702  | Positive             |\n",
      "|  7 | Education_Not Graduate  |  0        |      0.119013  | Positive             |\n",
      "| 10 | Property_Area_Semiurban |  0        |     -0.113641  | Negative             |\n",
      "|  9 | Property_Area_Rural     |  0        |      0.106275  | Positive             |\n",
      "|  1 | ApplicantIncome         |  0.510576 |      0.0998845 | Positive             |\n",
      "| 11 | Property_Area_Urban     |  1        |     -0.0612738 | Negative             |\n",
      "|  5 | Gender_Male             |  1        |     -0.0386152 | Negative             |\n",
      "|  3 | LoanAmount              | -0.325043 |      0.032121  | Positive             |\n",
      "|  0 | Dependents              | -0.827104 |     -0.0226349 | Negative             |\n",
      "|  8 | Self_Employed_Yes       |  0        |      0.020177  | Positive             |\n",
      "|  4 | Loan_Amount_Term        |  0.17554  |     -0.0053518 | Negative             |\n",
      "\n",
      "## Model Decision\n",
      "\n",
      "Based on the model's predictions, the loan applicant has been predicted to be eligible for a loan with a probability of 62%. Let's analyze the factors that contributed to this prediction.\n",
      "\n",
      "1. Dependents: The number of dependents the applicant has is a negative factor when it comes to loan approval. In this case, the applicant has -0.8 dependents, which reduced the probability of approval slightly.\n",
      "\n",
      "2. ApplicantIncome: The applicant's income is a positive factor for loan approval. In this case, the applicant has a relatively higher income, positively impacting the probability of approval.\n",
      "\n",
      "3. CoapplicantIncome: The co-applicant's income is also a factor for loan approval. However, in this case, the co-applicant's income has a negative impact on the probability of approval, as it is relatively low.\n",
      "\n",
      "4. LoanAmount: The requested loan amount also affects the approval decision. In this case, a lower loan amount positively impacts the probability of approval.\n",
      "\n",
      "5. Loan_Amount_Term: The term of the loan also plays a role in the approval decision. In this case, a longer loan term has a negative effect on the probability of approval.\n",
      "\n",
      "6. Gender_Male: Being male is also a negative factor for loan approval in this model. In this case, the applicant is male, which negatively impacts the probability of approval.\n",
      "\n",
      "7. Married_Yes: Being married is a positive factor for loan approval. In this case, the applicant is married, which positively affects the probability of approval.\n",
      "\n",
      "8. Education_Not Graduate: Education level is also considered in the model. Not being a graduate has a positive impact on the approval decision. In this case, the applicant is not a graduate, which increases the probability of approval.\n",
      "\n",
      "9. Self_Employed_Yes: Being self-employed is also considered a positive factor for loan approval. In this case, the applicant is not self-employed, so it slightly reduces the probability of approval.\n",
      "\n",
      "10. Property_Area_Rural, Property_Area_Semiurban, Property_Area_Urban: The property area is also taken into account. In this case, the property is in an urban area, which has a slight negative impact on the probability of approval compared to properties in rural or semi-urban areas.\n",
      "\n",
      "11. Credit_History_1.0: Having a credit history is a significant positive factor for loan approval. In this case, the applicant has a credit history, which greatly increases the probability of approval.\n",
      "\n",
      "The decision-making process of the model involves considering all these factors and assigning them a weight (SHAP value) based on their importance. Features with positive SHAP values increase the probability of approval, while features with negative SHAP values decrease the probability of approval. The magnitude of the SHAP value indicates the strength of the feature's impact on the decision.\n",
      "\n",
      "Overall, in this particular case, the applicant's income, credit history, marital status, education level, and the loan amount are the most impactful factors for loan approval.\n",
      "\n"
     ]
    }
   ],
   "source": [
    "print(report)"
   ]
  }
 ],
 "metadata": {
  "kernelspec": {
   "display_name": ".env",
   "language": "python",
   "name": "python3"
  },
  "language_info": {
   "codemirror_mode": {
    "name": "ipython",
    "version": 3
   },
   "file_extension": ".py",
   "mimetype": "text/x-python",
   "name": "python",
   "nbconvert_exporter": "python",
   "pygments_lexer": "ipython3",
   "version": "3.11.0"
  }
 },
 "nbformat": 4,
 "nbformat_minor": 2
}
