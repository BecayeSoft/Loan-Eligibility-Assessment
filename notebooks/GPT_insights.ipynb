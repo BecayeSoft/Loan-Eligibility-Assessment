{
 "cells": [
  {
   "cell_type": "markdown",
   "metadata": {},
   "source": [
    "# Generating insights from the model's predictions"
   ]
  },
  {
   "cell_type": "code",
   "execution_count": 18,
   "metadata": {},
   "outputs": [],
   "source": [
    "import sys\n",
    "sys.path.append('..')\n",
    "\n",
    "import pandas as pd\n",
    "import numpy as np\n",
    "np.set_printoptions(precision=3, suppress=True)\n",
    "\n",
    "from joblib import load\n",
    "\n",
    "# Interpretability\n",
    "import shap\n",
    "\n",
    "import os\n",
    "import openai\n",
    "from openai import OpenAI\n",
    "from dotenv import load_dotenv\n",
    "\n",
    "# Set transformers output to Pandas DataFrame instead of NumPy array\n",
    "from sklearn import set_config\n",
    "set_config(transform_output=\"pandas\")"
   ]
  },
  {
   "cell_type": "markdown",
   "metadata": {},
   "source": [
    "## Loading and prepare the data"
   ]
  },
  {
   "cell_type": "markdown",
   "metadata": {},
   "source": [
    "**Loading data**"
   ]
  },
  {
   "cell_type": "code",
   "execution_count": 19,
   "metadata": {},
   "outputs": [],
   "source": [
    "X_test = pd.read_csv('../data/raw/loan-data-test.csv')\n",
    "X_test.drop('Loan_ID', axis=1, inplace=True)"
   ]
  },
  {
   "cell_type": "markdown",
   "metadata": {},
   "source": [
    "**Loading preprocessing pipeline and model**"
   ]
  },
  {
   "cell_type": "code",
   "execution_count": 20,
   "metadata": {},
   "outputs": [],
   "source": [
    "with open('../models/model.pkl', 'rb') as f:\n",
    "    model = load(f)\n",
    "\n",
    "with open('../models/preprocessor.pkl', 'rb') as f:\n",
    "    preprocessor = load(f)"
   ]
  },
  {
   "cell_type": "markdown",
   "metadata": {},
   "source": [
    "**Preprocessing**"
   ]
  },
  {
   "cell_type": "code",
   "execution_count": 21,
   "metadata": {},
   "outputs": [],
   "source": [
    "# Mapping number of dependents to numerical values\n",
    "X_test.Dependents.replace('3+', 3, inplace=True)\n",
    "\n",
    "# Transforming the test set\n",
    "X_test = preprocessor.transform(X_test)"
   ]
  },
  {
   "cell_type": "markdown",
   "metadata": {},
   "source": [
    "## Getting the SHAP values"
   ]
  },
  {
   "cell_type": "markdown",
   "metadata": {},
   "source": [
    "**Unscaling the data**"
   ]
  },
  {
   "cell_type": "code",
   "execution_count": 22,
   "metadata": {},
   "outputs": [],
   "source": [
    "# Get the scaler and encoder object from the pipeline\n",
    "scaler = preprocessor.named_transformers_['numerical']['scaler']\n",
    "encoder = preprocessor.named_transformers_['categorical']['onehot']\n",
    "\n",
    "# Unscale the  data \n",
    "X_test_num_unscaled = scaler.inverse_transform(X_test[scaler.feature_names_in_])\n",
    "X_test_num_unscaled_df = pd.DataFrame(data=X_test_num_unscaled, columns=scaler.feature_names_in_)\n",
    "\n",
    "# Get the one-hot encoded features\n",
    "X_test_cat = X_test[encoder.get_feature_names_out()]\n",
    "\n",
    "# Reset the index before concatenation\n",
    "X_test_num_unscaled_df.reset_index(drop=True, inplace=True)\n",
    "X_test_cat.reset_index(drop=True, inplace=True)\n",
    "\n",
    "# Concat the unscaled numeric data and the categorical data\n",
    "X_test_unscaled = pd.concat([X_test_num_unscaled_df, X_test_cat], axis=1)"
   ]
  },
  {
   "cell_type": "markdown",
   "metadata": {},
   "source": [
    "### Creating a shap explainer"
   ]
  },
  {
   "cell_type": "code",
   "execution_count": 27,
   "metadata": {},
   "outputs": [],
   "source": [
    "explainer = shap.LinearExplainer(model, X_test)\n",
    "shap_explanation = explainer(X_test)\n",
    "\n",
    "# Replace the scaled values by the original ones\n",
    "shap_explanation.data = X_test_unscaled.values"
   ]
  },
  {
   "cell_type": "markdown",
   "metadata": {},
   "source": [
    "## Generate Insights"
   ]
  },
  {
   "cell_type": "markdown",
   "metadata": {},
   "source": [
    "### Format explanations in JSON\n",
    "\n",
    "This is a simplified version of the function [explanation_to_json](../src/reporting/utils.py) that is used in the web app.\n",
    "The original functions performs additional steps to make the explanations more readable."
   ]
  },
  {
   "cell_type": "code",
   "execution_count": 63,
   "metadata": {},
   "outputs": [],
   "source": [
    "feature_names = X_test.columns\n",
    "explanation_jsons = []\n",
    "i = 88\n",
    "\n",
    "# Predict the status\n",
    "predicted_status = model.predict(X_test.iloc[[i]])\n",
    "\n",
    "# Predict the probability\n",
    "predicted_proba = np.round(\n",
    "    model.predict_proba(X_test.iloc[[i]])[0][1] * 100\n",
    ").astype(int)\n",
    "\n",
    "# Get the explanation for the predicted status\n",
    "for name, value, shap_value in zip(feature_names, shap_explanation.data[i], shap_explanation.values[i]):\n",
    "    explanation_json = {}\n",
    "    explanation_json[\"Name\"] = name\n",
    "    explanation_json[\"Value\"] = value\n",
    "    explanation_json[\"SHAP Value\"] = shap_value\n",
    "    explanation_json[\"Effect on Approval\"] = \"Positive\" if shap_value > 0 else \"Negative\"\n",
    "\n",
    "    explanation_jsons.append(explanation_json)\n",
    "\n",
    "# explanation_jsons"
   ]
  },
  {
   "cell_type": "code",
   "execution_count": 106,
   "metadata": {},
   "outputs": [
    {
     "name": "stdout",
     "output_type": "stream",
     "text": [
      "[   0. 5720.    0.  110.  360.    1.    0.    0.    0.    1.    1.]\n",
      "[-0.083  0.147 -0.317  0.029 -0.006 -0.012  0.027  0.116 -0.115 -0.047\n",
      "  0.531]\n"
     ]
    }
   ],
   "source": [
    "print(shap_explanation.data[0])\n",
    "print(shap_explanation.values[0])"
   ]
  },
  {
   "cell_type": "code",
   "execution_count": 85,
   "metadata": {},
   "outputs": [
    {
     "name": "stdout",
     "output_type": "stream",
     "text": [
      "[{'Name': 'Dependents', 'Value': 0.0, 'SHAP Value': -0.08346984991178112, 'Effect on Approval': 'Negative'}, {'Name': 'Applicant Income', 'Value': 5720, 'SHAP Value': 0.14706541892812847, 'Effect on Approval': 'Positive'}, {'Name': 'Coapplicant Income', 'Value': 0, 'SHAP Value': -0.3171539419119009, 'Effect on Approval': 'Negative'}, {'Name': 'Loan Amount', 'Value': 110000, 'SHAP Value': 0.029009653363208033, 'Effect on Approval': 'Positive'}, {'Name': 'Loan Amount Term', 'Value': 360, 'SHAP Value': -0.005628890210890795, 'Effect on Approval': 'Negative'}, {'Name': 'Gender', 'Value': 'Male', 'SHAP Value': -0.011940938055301362, 'Effect on Approval': 'Negative'}, {'Name': 'Self Employed', 'Value': 'No', 'SHAP Value': 0.026858270835239666, 'Effect on Approval': 'Positive'}, {'Name': 'Property Area', 'Value': 'Urban', 'SHAP Value': -0.04697147224187069, 'Effect on Approval': 'Negative'}, {'Name': 'Has Credit History', 'Value': 'Yes', 'SHAP Value': 0.5307220385544934, 'Effect on Approval': 'Positive'}]\n"
     ]
    }
   ],
   "source": [
    "explanation_jsons = []\n",
    "feature_names = [\n",
    "    'Dependents', 'Applicant Income', 'Coapplicant Income', 'Loan Amount',\n",
    "    'Loan Amount Term', 'Gender', \n",
    "    # 'Married', 'Education', \n",
    "    'Self Employed', 'Property Area: Rural',\n",
    "    'Property Area: Semi-urban', 'Property Area: Urban', 'Has Credit History'\n",
    "]\n",
    "\n",
    "numerical_features = [\n",
    "    'Applicant Income', 'Coapplicant Income', \n",
    "    'Loan Amount', 'Loan Amount Term'\n",
    "]\n",
    "\n",
    "explanation_jsons = []\n",
    "\n",
    "for name, value, shap_value in zip(feature_names, \n",
    "    shap_explanation.data[0], shap_explanation.values[0]):     \n",
    "            \n",
    "    explanation_json = {}\n",
    "\n",
    "    # Deleted features\n",
    "    # elif name == \"Married\":\n",
    "    #     value = \"Yes\" if value == 1 else \"No\"\n",
    "    # elif name == \"Education\":\n",
    "    #     value = \"Not Graduate\" if value == 1 else \"Graduate\"\n",
    "    \n",
    "    # > Map the values to strings for interpretability\n",
    "    if name == \"Gender\":\n",
    "        value = \"Male\" if value == 1 else \"Female\"\n",
    "    elif name == \"Self Employed\":\n",
    "        value = \"Yes\" if value == 1 else \"No\"\n",
    "    elif name == \"Has Credit History\":\n",
    "        value = \"Yes\" if value == 1 else \"No\"\n",
    "\n",
    "    # > Map \"Property Area\" to it's original category\n",
    "    # keep only the value that is equal to 1 \n",
    "    # since the property area is one-hot encoded\n",
    "    elif name == \"Property Area: Rural\":\n",
    "        if value == 1:\n",
    "            name = \"Property Area\"\n",
    "            value = \"Rural\"\n",
    "        else:\n",
    "            continue\n",
    "    elif name == \"Property Area: Semi-urban\":\n",
    "        if value == 1:\n",
    "            name = \"Property Area\"\n",
    "            value = \"Semi-urban\"\n",
    "        else:\n",
    "            continue\n",
    "    elif name == \"Property Area: Urban\":\n",
    "        if value == 1:\n",
    "            name = \"Property Area\"\n",
    "            value = \"Urban\"\n",
    "        else:\n",
    "            continue\n",
    "\n",
    "\n",
    "    # Map the \"Loan Amount\" values to thousands\n",
    "    # since the original data is in thousands\n",
    "    elif name == \"Loan Amount\":\n",
    "        value = value * 1000\n",
    "\n",
    "    explanation_json[\"Name\"] = name\n",
    "    \n",
    "    # Round numerical features value\n",
    "    if name in numerical_features:\n",
    "        explanation_json[\"Value\"] = round(value)\n",
    "    else:\n",
    "        explanation_json[\"Value\"] = value\n",
    "\n",
    "    explanation_json[\"SHAP Value\"] = shap_value\n",
    "    explanation_json[\"Effect on Approval\"] = \"Positive\" if shap_value > 0 else \"Negative\"\n",
    "    \n",
    "    explanation_jsons.append(explanation_json)\n",
    "\n",
    "print(explanation_jsons)\n"
   ]
  },
  {
   "cell_type": "code",
   "execution_count": 100,
   "metadata": {},
   "outputs": [],
   "source": [
    "# print(\"\\n\\n---------->\\nshap_explanation\")\n",
    "# print(shap_explanation.data[0])\n",
    "# # print(\">\")\n",
    "# print(shap_explanation.values[0])\n",
    "# print(feature_names)"
   ]
  },
  {
   "cell_type": "code",
   "execution_count": 101,
   "metadata": {},
   "outputs": [
    {
     "data": {
      "text/html": [
       "<div>\n",
       "<style scoped>\n",
       "    .dataframe tbody tr th:only-of-type {\n",
       "        vertical-align: middle;\n",
       "    }\n",
       "\n",
       "    .dataframe tbody tr th {\n",
       "        vertical-align: top;\n",
       "    }\n",
       "\n",
       "    .dataframe thead th {\n",
       "        text-align: right;\n",
       "    }\n",
       "</style>\n",
       "<table border=\"1\" class=\"dataframe\">\n",
       "  <thead>\n",
       "    <tr style=\"text-align: right;\">\n",
       "      <th></th>\n",
       "      <th>Name</th>\n",
       "      <th>Value</th>\n",
       "      <th>SHAP Value</th>\n",
       "      <th>Effect on Approval</th>\n",
       "    </tr>\n",
       "  </thead>\n",
       "  <tbody>\n",
       "    <tr>\n",
       "      <th>0</th>\n",
       "      <td>Dependents</td>\n",
       "      <td>0.0</td>\n",
       "      <td>-0.083470</td>\n",
       "      <td>Negative</td>\n",
       "    </tr>\n",
       "    <tr>\n",
       "      <th>1</th>\n",
       "      <td>Applicant Income</td>\n",
       "      <td>5720</td>\n",
       "      <td>0.147065</td>\n",
       "      <td>Positive</td>\n",
       "    </tr>\n",
       "    <tr>\n",
       "      <th>2</th>\n",
       "      <td>Coapplicant Income</td>\n",
       "      <td>0</td>\n",
       "      <td>-0.317154</td>\n",
       "      <td>Negative</td>\n",
       "    </tr>\n",
       "    <tr>\n",
       "      <th>3</th>\n",
       "      <td>Loan Amount</td>\n",
       "      <td>110000</td>\n",
       "      <td>0.029010</td>\n",
       "      <td>Positive</td>\n",
       "    </tr>\n",
       "    <tr>\n",
       "      <th>4</th>\n",
       "      <td>Loan Amount Term</td>\n",
       "      <td>360</td>\n",
       "      <td>-0.005629</td>\n",
       "      <td>Negative</td>\n",
       "    </tr>\n",
       "    <tr>\n",
       "      <th>5</th>\n",
       "      <td>Gender</td>\n",
       "      <td>Male</td>\n",
       "      <td>-0.011941</td>\n",
       "      <td>Negative</td>\n",
       "    </tr>\n",
       "    <tr>\n",
       "      <th>6</th>\n",
       "      <td>Self Employed</td>\n",
       "      <td>No</td>\n",
       "      <td>0.026858</td>\n",
       "      <td>Positive</td>\n",
       "    </tr>\n",
       "    <tr>\n",
       "      <th>7</th>\n",
       "      <td>Property Area</td>\n",
       "      <td>Urban</td>\n",
       "      <td>-0.046971</td>\n",
       "      <td>Negative</td>\n",
       "    </tr>\n",
       "    <tr>\n",
       "      <th>8</th>\n",
       "      <td>Has Credit History</td>\n",
       "      <td>Yes</td>\n",
       "      <td>0.530722</td>\n",
       "      <td>Positive</td>\n",
       "    </tr>\n",
       "  </tbody>\n",
       "</table>\n",
       "</div>"
      ],
      "text/plain": [
       "                 Name   Value  SHAP Value Effect on Approval\n",
       "0          Dependents     0.0   -0.083470           Negative\n",
       "1    Applicant Income    5720    0.147065           Positive\n",
       "2  Coapplicant Income       0   -0.317154           Negative\n",
       "3         Loan Amount  110000    0.029010           Positive\n",
       "4    Loan Amount Term     360   -0.005629           Negative\n",
       "5              Gender    Male   -0.011941           Negative\n",
       "6       Self Employed      No    0.026858           Positive\n",
       "7       Property Area   Urban   -0.046971           Negative\n",
       "8  Has Credit History     Yes    0.530722           Positive"
      ]
     },
     "execution_count": 101,
     "metadata": {},
     "output_type": "execute_result"
    }
   ],
   "source": [
    "pd.DataFrame(explanation_jsons)"
   ]
  },
  {
   "cell_type": "markdown",
   "metadata": {},
   "source": [
    "**Visualizing the JSON arrays as a DataFrame**"
   ]
  },
  {
   "cell_type": "code",
   "execution_count": 86,
   "metadata": {},
   "outputs": [
    {
     "data": {
      "text/html": [
       "<div>\n",
       "<style scoped>\n",
       "    .dataframe tbody tr th:only-of-type {\n",
       "        vertical-align: middle;\n",
       "    }\n",
       "\n",
       "    .dataframe tbody tr th {\n",
       "        vertical-align: top;\n",
       "    }\n",
       "\n",
       "    .dataframe thead th {\n",
       "        text-align: right;\n",
       "    }\n",
       "</style>\n",
       "<table border=\"1\" class=\"dataframe\">\n",
       "  <thead>\n",
       "    <tr style=\"text-align: right;\">\n",
       "      <th></th>\n",
       "      <th>Name</th>\n",
       "      <th>Value</th>\n",
       "      <th>SHAP Value</th>\n",
       "      <th>Effect on Approval</th>\n",
       "    </tr>\n",
       "  </thead>\n",
       "  <tbody>\n",
       "    <tr>\n",
       "      <th>0</th>\n",
       "      <td>Has Credit History</td>\n",
       "      <td>Yes</td>\n",
       "      <td>0.530722</td>\n",
       "      <td>Positive</td>\n",
       "    </tr>\n",
       "    <tr>\n",
       "      <th>1</th>\n",
       "      <td>Coapplicant Income</td>\n",
       "      <td>0</td>\n",
       "      <td>-0.317154</td>\n",
       "      <td>Negative</td>\n",
       "    </tr>\n",
       "    <tr>\n",
       "      <th>2</th>\n",
       "      <td>Applicant Income</td>\n",
       "      <td>5720</td>\n",
       "      <td>0.147065</td>\n",
       "      <td>Positive</td>\n",
       "    </tr>\n",
       "    <tr>\n",
       "      <th>3</th>\n",
       "      <td>Dependents</td>\n",
       "      <td>0.0</td>\n",
       "      <td>-0.083470</td>\n",
       "      <td>Negative</td>\n",
       "    </tr>\n",
       "    <tr>\n",
       "      <th>4</th>\n",
       "      <td>Property Area</td>\n",
       "      <td>Urban</td>\n",
       "      <td>-0.046971</td>\n",
       "      <td>Negative</td>\n",
       "    </tr>\n",
       "    <tr>\n",
       "      <th>5</th>\n",
       "      <td>Loan Amount</td>\n",
       "      <td>110000</td>\n",
       "      <td>0.029010</td>\n",
       "      <td>Positive</td>\n",
       "    </tr>\n",
       "    <tr>\n",
       "      <th>6</th>\n",
       "      <td>Self Employed</td>\n",
       "      <td>No</td>\n",
       "      <td>0.026858</td>\n",
       "      <td>Positive</td>\n",
       "    </tr>\n",
       "    <tr>\n",
       "      <th>7</th>\n",
       "      <td>Gender</td>\n",
       "      <td>Male</td>\n",
       "      <td>-0.011941</td>\n",
       "      <td>Negative</td>\n",
       "    </tr>\n",
       "    <tr>\n",
       "      <th>8</th>\n",
       "      <td>Loan Amount Term</td>\n",
       "      <td>360</td>\n",
       "      <td>-0.005629</td>\n",
       "      <td>Negative</td>\n",
       "    </tr>\n",
       "  </tbody>\n",
       "</table>\n",
       "</div>"
      ],
      "text/plain": [
       "                 Name   Value  SHAP Value Effect on Approval\n",
       "0  Has Credit History     Yes    0.530722           Positive\n",
       "1  Coapplicant Income       0   -0.317154           Negative\n",
       "2    Applicant Income    5720    0.147065           Positive\n",
       "3          Dependents     0.0   -0.083470           Negative\n",
       "4       Property Area   Urban   -0.046971           Negative\n",
       "5         Loan Amount  110000    0.029010           Positive\n",
       "6       Self Employed      No    0.026858           Positive\n",
       "7              Gender    Male   -0.011941           Negative\n",
       "8    Loan Amount Term     360   -0.005629           Negative"
      ]
     },
     "execution_count": 86,
     "metadata": {},
     "output_type": "execute_result"
    }
   ],
   "source": [
    "explanation_df = pd.DataFrame(explanation_jsons)\n",
    "\n",
    "# Sort feature by impact score\n",
    "explanation_df[\"SHAP Value (Abs)\"] = explanation_df[\"SHAP Value\"].abs()\n",
    "explanation_df.sort_values(by=\"SHAP Value (Abs)\", ascending=False, inplace=True)\n",
    "explanation_df.drop(\"SHAP Value (Abs)\", axis=1, inplace=True)\n",
    "explanation_df.reset_index(drop=True, inplace=True)\n",
    "explanation_df"
   ]
  },
  {
   "cell_type": "markdown",
   "metadata": {},
   "source": [
    "## Generation GPT predictions"
   ]
  },
  {
   "cell_type": "code",
   "execution_count": 13,
   "metadata": {},
   "outputs": [],
   "source": [
    "_ = load_dotenv(\"../credentials.env\")\n",
    "openai.api_key = os.environ['OPENAI_API_KEY']"
   ]
  },
  {
   "cell_type": "markdown",
   "metadata": {},
   "source": [
    "### Prompting GPT-3.5"
   ]
  },
  {
   "cell_type": "code",
   "execution_count": 65,
   "metadata": {},
   "outputs": [
    {
     "name": "stdout",
     "output_type": "stream",
     "text": [
      "\n",
      "Below are the definitions of the features:\n",
      "- Dependents: Number of dependents of the applicant \n",
      "- ApplicantIncome: Income of the applicant\n",
      "- CoapplicantIncome: Income of the co-applicant\n",
      "- LoanAmount: Loan amount \n",
      "- Loan_Amount_Term: Term of the loan in months\n",
      "- Gender: then gender of the applicant\n",
      "- Self Employed: wheather the applicant is self-employed or not\n",
      "- Property Area:Rural: \"Yes\" if the property is in a rural area, \"No\" otherwise\n",
      "- PropertyArea: Semiurban: \"Yes\" if the property is in a semiurban area, \"No\" otherwise\n",
      "- Property_Area: Urban: \"Yes\" if the property is in an urban area, \"No\" otherwise\n",
      "- Has Credit History: \"Yes\" if the applicant has a credit history, \"No\" otherwise\n",
      "\n",
      "Below are the names, values, SHAP values, and effects for each prediction in a JSON format:\n",
      "[{'Name': 'Dependents', 'Value': 2.0, 'SHAP Value': 0.12153182486780074, 'Effect on Approval': 'Positive'}, {'Name': 'ApplicantIncome', 'Value': 3235.000000000001, 'SHAP Value': 0.003905107913558934, 'Effect on Approval': 'Positive'}, {'Name': 'CoapplicantIncome', 'Value': 2015.0000000000014, 'SHAP Value': 0.25392953805787455, 'Effect on Approval': 'Positive'}, {'Name': 'LoanAmount', 'Value': 77.00000000000004, 'SHAP Value': 0.1449114621787927, 'Effect on Approval': 'Positive'}, {'Name': 'Loan_Amount_Term', 'Value': 360.00000000000006, 'SHAP Value': -0.005628890210890795, 'Effect on Approval': 'Negative'}, {'Name': 'Gender_Male', 'Value': 1.0, 'SHAP Value': -0.011940938055301362, 'Effect on Approval': 'Negative'}, {'Name': 'Self_Employed_Yes', 'Value': 0.0, 'SHAP Value': 0.026858270835239666, 'Effect on Approval': 'Positive'}, {'Name': 'Property_Area_Rural', 'Value': 0.0, 'SHAP Value': 0.11601698412773537, 'Effect on Approval': 'Positive'}, {'Name': 'Property_Area_Semiurban', 'Value': 1.0, 'SHAP Value': 0.3286592753540626, 'Effect on Approval': 'Positive'}, {'Name': 'Property_Area_Urban', 'Value': 0.0, 'SHAP Value': 0.03401382472687187, 'Effect on Approval': 'Positive'}, {'Name': 'Credit_History_1.0', 'Value': 1.0, 'SHAP Value': 0.5307220385544934, 'Effect on Approval': 'Positive'}]\n",
      "\n",
      "Below is the prediction of the model:\n",
      "Predicted status: [1]\n",
      "Probability of approval: 80%\n",
      "\n",
      "-----\n",
      "Based on the information on feature names, values, SHAP values, and effects, \n",
      "generate a report to explain the model's decision in simple terms.\n",
      "Below is an example of response so that you can get the pattern.\n",
      "Feel free to change it as you see fit:\n",
      "The bulleted list should be ordered by impact magnitude.\n",
      "\n",
      "Your loan application has been evaluated. Here is why:\n",
      "1. **Income**: Your income is a key factor in the decision-making process. With an income of \\$3,235, it has a positive, albeit relatively small, impact on the approval decision.\n",
      "2. **Co-applicant's Contribution**: You have a co-applicant with an income of \\$2,015. This factor significantly boosts your chances of approval, as a higher co-applicant income increases the likelihood of getting the loan approved.\n",
      "3. **Requested Loan Amount:** Your loan request of \\$77,000 falls within the lower range of our allowable amount, which spans from \\$9,000 to \\$700,000. This contributes positively to the approval decision, as a lower loan amount like yours indicates an increased likelihood of approval.\n",
      "4. **Loan Term Duration:** The chosen loan term of 360 months (30 years) exceeds the midpoint in our range of 12 to 480 months. Opting for a longer loan term slightly diminishes your chances of approval.\n",
      "5. **Dependents**: The number of dependents refers to the people relying on your support. In your case, you have 2 dependents. This aspect works in your favor, as having more dependents increases the likelihood of your loan being approved.\n",
      "6. **Gender:** The gender is taken into account by the system, revealing a modest negative impact on the approval decision. However, the effect is relatively small and doesn't carry significant weight in your specific case.\n",
      "7. Other impactful factors\n",
      "...\n",
      "\n",
      "\n",
      "Conclude with a summary of the most important factors and their effects on the decision.\n",
      "\n",
      "Recommend actions to improve the chances of approval.\n",
      "\n"
     ]
    }
   ],
   "source": [
    "# You are a loan eligibility officer. \n",
    "# Behind our system, we use a machine learning model to predict the loan status of the applicant.\n",
    "system_prompt = \"\"\"\n",
    "The system evaluates loan applications using applicant data. \n",
    "You need to explain the system's decision, considering features and their impacts, and this explanation is tailored for the non-technical applicant. \n",
    "No greetings or closings are necessary. \n",
    "Emphasize the features that had the most influence on the system's decision and how they affected that decision.\n",
    "When you mention a feature, include the feature's name and value.\n",
    "Use the term \"system\" to reference the model and avoid technical jargon related to the SHAP values.\n",
    "\n",
    "IMPORTANT\n",
    "---------\n",
    "Higher ApplicantIncome, CoapplicantIncome and LoanAmount are associated with a higher probability of approval. \n",
    "Higher LoanAmount and Loan_Amount_Term are associated with a lower probability of approval.\n",
    "Loan Amount ranges from $9 to $700 (in thousands).\n",
    "Loan Amount Term ranges from 12 to 480 months.\n",
    "\"\"\"\n",
    "\n",
    "system_prompt = \"\"\"\n",
    "The system evaluates loan applications using applicant data. \n",
    "You need to explain the system's decision, considering features and their impacts, and this explanation is tailored for the non-technical applicant. \n",
    "No greetings or closings are necessary. \n",
    "Emphasize the features that had the most influence on the system's decision and how they affected that decision.\n",
    "When you mention a feature, include the feature's name and value.\n",
    "Use the term \"system\" to reference the model and avoid technical jargon related to the SHAP values.\n",
    "\n",
    "IMPORTANT\n",
    "---------\n",
    "Higher ApplicantIncome, CoapplicantIncome and LoanAmount are associated with a higher probability of approval. \n",
    "Higher LoanAmount and Loan_Amount_Term are associated with a lower probability of approval.\n",
    "Loan Amount ranges from $9 to $700 (in thousands).\n",
    "Loan Amount Term ranges from 12 to 480 months.\n",
    "\"\"\"\n",
    "\n",
    "response_template = \"\"\"\n",
    "Your loan application has been evaluated. Here is why:\n",
    "1. **Income**: Your income is a key factor in the decision-making process. With an income of \\$3,235, it has a positive, albeit relatively small, impact on the approval decision.\n",
    "2. **Co-applicant's Contribution**: You have a co-applicant with an income of \\$2,015. This factor significantly boosts your chances of approval, as a higher co-applicant income increases the likelihood of getting the loan approved.\n",
    "3. **Requested Loan Amount:** Your loan request of \\$77,000 falls within the lower range of our allowable amount, which spans from \\$9,000 to \\$700,000. This contributes positively to the approval decision, as a lower loan amount like yours indicates an increased likelihood of approval.\n",
    "4. **Loan Term Duration:** The chosen loan term of 360 months (30 years) exceeds the midpoint in our range of 12 to 480 months. Opting for a longer loan term slightly diminishes your chances of approval.\n",
    "5. **Dependents**: The number of dependents refers to the people relying on your support. In your case, you have 2 dependents. This aspect works in your favor, as having more dependents increases the likelihood of your loan being approved.\n",
    "6. **Gender:** The gender is taken into account by the system, revealing a modest negative impact on the approval decision. However, the effect is relatively small and doesn't carry significant weight in your specific case.\n",
    "7. Other impactful factors\n",
    "...\n",
    "\"\"\"\n",
    "# In conclusion, the factors that most impacted the decision were your income and the co-applicant's income, the requested loan amount and its duration, along with the number of dependents.\n",
    "\n",
    "query = f\"\"\"\n",
    "Below are the definitions of the features:\n",
    "- Dependents: Number of dependents of the applicant \n",
    "- ApplicantIncome: Income of the applicant\n",
    "- CoapplicantIncome: Income of the co-applicant\n",
    "- LoanAmount: Loan amount \n",
    "- Loan_Amount_Term: Term of the loan in months\n",
    "- Gender: then gender of the applicant\n",
    "- Self Employed: wheather the applicant is self-employed or not\n",
    "- Property Area:Rural: \"Yes\" if the property is in a rural area, \"No\" otherwise\n",
    "- PropertyArea: Semiurban: \"Yes\" if the property is in a semiurban area, \"No\" otherwise\n",
    "- Property_Area: Urban: \"Yes\" if the property is in an urban area, \"No\" otherwise\n",
    "- Has Credit History: \"Yes\" if the applicant has a credit history, \"No\" otherwise\n",
    "\n",
    "Below are the names, values, SHAP values, and effects for each prediction in a JSON format:\n",
    "{explanation_jsons}\n",
    "\n",
    "Below is the prediction of the model:\n",
    "Predicted status: {predicted_status}\n",
    "Probability of approval: {predicted_proba}%\n",
    "\n",
    "-----\n",
    "Based on the information on feature names, values, SHAP values, and effects, \n",
    "generate a report to explain the model's decision in simple terms.\n",
    "Below is an example of response so that you can get the pattern.\n",
    "Feel free to change it as you see fit:\n",
    "The bulleted list should be ordered by impact magnitude.\n",
    "{response_template}\n",
    "\n",
    "Conclude with a summary of the most important factors and their effects on the decision.\n",
    "\n",
    "Recommend actions to improve the chances of approval.\n",
    "\"\"\"\n",
    "\n",
    "print(query)"
   ]
  },
  {
   "cell_type": "markdown",
   "metadata": {},
   "source": [
    "### Generating the report"
   ]
  },
  {
   "cell_type": "code",
   "execution_count": 109,
   "metadata": {},
   "outputs": [
    {
     "name": "stdout",
     "output_type": "stream",
     "text": [
      "Original: This is $ a string with $ signs, but \\$ some are already escaped: \\$ \\$.\n",
      "Escaped: This is \\$ a string with \\$ signs, but \\$ some are already escaped: \\$ \\$.\n"
     ]
    }
   ],
   "source": [
    "import re\n",
    "\n",
    "def selectively_escape_dollar_sign(string):\n",
    "    def replace_unescaped(match):\n",
    "        # Replace unescaped dollar signs with their escaped form\n",
    "        return match.group().replace('$', r'\\$')\n",
    "\n",
    "    # Use a regular expression to find unescaped dollar signs\n",
    "    pattern = re.compile(r'(?<!\\\\)\\$')\n",
    "    return pattern.sub(replace_unescaped, string)\n",
    "\n",
    "# Example usage:\n",
    "query_template = \"This is $ a string with $ signs, but \\\\$ some are already escaped: \\\\$ \\\\$.\"\n",
    "\n",
    "escaped_query_template = selectively_escape_dollar_sign(query_template)\n",
    "\n",
    "print(\"Original:\", query_template)\n",
    "print(\"Escaped:\", escaped_query_template)\n"
   ]
  },
  {
   "cell_type": "code",
   "execution_count": 61,
   "metadata": {},
   "outputs": [],
   "source": [
    "def generate_response(system_prompt, query):\n",
    "\t\"\"\"Generate a response to a query based on a system prompt\"\"\"\n",
    "\tcompletion = openai.chat.completions.create(\n",
    "\t\tmodel=\"gpt-3.5-turbo\",\n",
    "\t\tmessages=[\n",
    "\t\t\t{\"role\": \"system\", \"content\": system_prompt},\n",
    "\t\t\t{\"role\": \"user\", \"content\": query}\n",
    "\t\t]\n",
    "\t)\n",
    "\n",
    "\treturn completion.choices[0].message.content"
   ]
  },
  {
   "cell_type": "code",
   "execution_count": 62,
   "metadata": {},
   "outputs": [
    {
     "name": "stdout",
     "output_type": "stream",
     "text": [
      "The system has evaluated your loan application and made a decision based on various factors. Let's take a closer look at the features and their impacts:\n",
      "\n",
      "1. Dependents: This feature represents the number of dependents you have. In your case, you have 2 dependents. This feature has a positive impact on the approval decision, meaning that having more dependents increases the likelihood of approval.\n",
      "\n",
      "2. ApplicantIncome: This feature represents your income as the primary applicant. The system considers this feature as one of the factors for the decision. Your income of $3,235 has a positive but relatively small impact on the approval decision.\n",
      "\n",
      "3. CoapplicantIncome: This feature represents the income of the co-applicant, if applicable. In your case, the co-applicant's income is $2,015. This feature has a significant positive impact on the approval decision, indicating that higher co-applicant income increases the chances of approval.\n",
      "\n",
      "4. LoanAmount: This feature represents the requested loan amount in thousands. Your requested loan amount is $77,000. The system considers this feature and finds that it has a positive impact on the approval decision. It suggests that a higher loan amount increases the probability of approval.\n",
      "\n",
      "5. Loan_Amount_Term: This feature represents the term of the loan in months. In your case, the loan term is 360 months (30 years). The system considers this feature and finds that it has a negative impact on the approval decision. A longer loan term slightly decreases the chances of approval.\n",
      "\n",
      "6. Gender_Male: This feature indicates whether you are a male (1) or not (0). The system considers this feature and finds that being male has a negative impact on the approval decision. However, the impact is relatively small and not significant in your case.\n",
      "\n",
      "7. Self_Employed_Yes: This feature indicates if you are self-employed (1) or not (0). The system considers this feature and finds that being self-employed has a positive impact on the approval decision. It implies that being self-employed slightly increases the chances of approval.\n",
      "\n",
      "8. Property_Area_Rural, Property_Area_Semiurban, Property_Area_Urban: These features represent the property's location and indicate whether it is in a rural, semiurban, or urban area. The system considers these features and finds that having the property in a semiurban area has the most significant positive impact on the approval decision. It suggests that having the property in a semiurban area greatly increases the chances of approval.\n",
      "\n",
      "9. Credit_History_1.0: This feature indicates whether you have a credit history (1) or not (0). The system considers this feature and finds that having a credit history has the most significant positive impact on the approval decision. It indicates that having a credit history greatly increases the probability of approval.\n",
      "\n",
      "Based on all these features and their impacts, the system has predicted that your loan application will be approved. The system estimates an 80% probability of approval. It's important to note that each feature contributes differently to the final decision, with the number of dependents, coapplicant income, credit history, and property in a semiurban area having the most significant influences on the approval decision.\n"
     ]
    }
   ],
   "source": [
    "response = generate_response(system_prompt, query)\n",
    "print(response)"
   ]
  },
  {
   "cell_type": "markdown",
   "metadata": {},
   "source": [
    "## Save the report"
   ]
  },
  {
   "cell_type": "code",
   "execution_count": 76,
   "metadata": {},
   "outputs": [
    {
     "name": "stdout",
     "output_type": "stream",
     "text": [
      "|    | Name               | Value   |   Impact Score | Effect on Approval   |\n",
      "|---:|:-------------------|:--------|---------------:|:---------------------|\n",
      "|  0 | Has Credit History | Yes     |     0.530722   | Positive             |\n",
      "|  1 | Coapplicant Income | 0       |    -0.317154   | Negative             |\n",
      "|  2 | Applicant Income   | 5720    |     0.147065   | Positive             |\n",
      "|  3 | Dependents         | 0.0     |    -0.0834698  | Negative             |\n",
      "|  4 | Property Area      | Urban   |    -0.0469715  | Negative             |\n",
      "|  5 | Loan Amount        | 110000  |     0.0290097  | Positive             |\n",
      "|  6 | Self Employed      | No      |     0.0268583  | Positive             |\n",
      "|  7 | Gender             | Male    |    -0.0119409  | Negative             |\n",
      "|  8 | Loan Amount Term   | 360     |    -0.00562889 | Negative             |\n"
     ]
    }
   ],
   "source": [
    "# Rename SHAP value to Impact Score for better understanding\n",
    "explanation_df.rename(columns={\"SHAP Value\": \"Impact Score\"}, inplace=True)\n",
    "\n",
    "# Convert my dataframe as markdown table\n",
    "print(explanation_df.to_markdown())"
   ]
  },
  {
   "cell_type": "code",
   "execution_count": 2,
   "metadata": {},
   "outputs": [
    {
     "ename": "NameError",
     "evalue": "name 'explanations_df' is not defined",
     "output_type": "error",
     "traceback": [
      "\u001b[1;31m---------------------------------------------------------------------------\u001b[0m",
      "\u001b[1;31mNameError\u001b[0m                                 Traceback (most recent call last)",
      "Cell \u001b[1;32mIn[2], line 8\u001b[0m\n\u001b[0;32m      1\u001b[0m \u001b[38;5;66;03m# We will save the report as Markdown file\u001b[39;00m\n\u001b[0;32m      2\u001b[0m \u001b[38;5;66;03m# The report will contains the dataframe as a table and the response from GPT-3\u001b[39;00m\n\u001b[0;32m      3\u001b[0m report \u001b[38;5;241m=\u001b[39m \u001b[38;5;124mf\u001b[39m\u001b[38;5;124m\"\"\"\u001b[39m\n\u001b[0;32m      4\u001b[0m \u001b[38;5;124m# Loan Approval Decision Report\u001b[39m\n\u001b[0;32m      5\u001b[0m \n\u001b[0;32m      6\u001b[0m \u001b[38;5;124m## Applicant Information\u001b[39m\n\u001b[0;32m      7\u001b[0m \n\u001b[1;32m----> 8\u001b[0m \u001b[38;5;132;01m{\u001b[39;00m\u001b[43mexplanations_df\u001b[49m\u001b[38;5;241m.\u001b[39mto_markdown()\u001b[38;5;132;01m}\u001b[39;00m\n\u001b[0;32m      9\u001b[0m \n\u001b[0;32m     10\u001b[0m \u001b[38;5;124m## Model Decision\u001b[39m\n\u001b[0;32m     11\u001b[0m \n\u001b[0;32m     12\u001b[0m \u001b[38;5;132;01m{\u001b[39;00mresponse\u001b[38;5;132;01m}\u001b[39;00m\n\u001b[0;32m     13\u001b[0m \u001b[38;5;124m\"\"\"\u001b[39m\n\u001b[0;32m     15\u001b[0m \u001b[38;5;28;01mwith\u001b[39;00m \u001b[38;5;28mopen\u001b[39m(\u001b[38;5;124m'\u001b[39m\u001b[38;5;124m../reports/loan_approval_decision_report.md\u001b[39m\u001b[38;5;124m'\u001b[39m, \u001b[38;5;124m'\u001b[39m\u001b[38;5;124mw\u001b[39m\u001b[38;5;124m'\u001b[39m) \u001b[38;5;28;01mas\u001b[39;00m f:\n\u001b[0;32m     16\u001b[0m     f\u001b[38;5;241m.\u001b[39mwrite(report)\n",
      "\u001b[1;31mNameError\u001b[0m: name 'explanations_df' is not defined"
     ]
    }
   ],
   "source": [
    "# We will save the report as Markdown file\n",
    "# The report will contains the dataframe as a table and the response from GPT-3\n",
    "report = f\"\"\"\n",
    "# Loan Approval Decision Report\n",
    "\n",
    "## Applicant Information\n",
    "\n",
    "{explanation_df.to_markdown()}\n",
    "\n",
    "## Model Decision\n",
    "\n",
    "{response}\n",
    "\"\"\"\n",
    "\n",
    "with open('../reports/loan_approval_decision_report.md', 'w') as f:\n",
    "    f.write(report)"
   ]
  },
  {
   "cell_type": "code",
   "execution_count": 1,
   "metadata": {},
   "outputs": [
    {
     "ename": "NameError",
     "evalue": "name 'report' is not defined",
     "output_type": "error",
     "traceback": [
      "\u001b[1;31m---------------------------------------------------------------------------\u001b[0m",
      "\u001b[1;31mNameError\u001b[0m                                 Traceback (most recent call last)",
      "Cell \u001b[1;32mIn[1], line 1\u001b[0m\n\u001b[1;32m----> 1\u001b[0m \u001b[38;5;28mprint\u001b[39m(\u001b[43mreport\u001b[49m)\n",
      "\u001b[1;31mNameError\u001b[0m: name 'report' is not defined"
     ]
    }
   ],
   "source": [
    "print(report)"
   ]
  }
 ],
 "metadata": {
  "kernelspec": {
   "display_name": ".env",
   "language": "python",
   "name": "python3"
  },
  "language_info": {
   "codemirror_mode": {
    "name": "ipython",
    "version": 3
   },
   "file_extension": ".py",
   "mimetype": "text/x-python",
   "name": "python",
   "nbconvert_exporter": "python",
   "pygments_lexer": "ipython3",
   "version": "3.11.0"
  }
 },
 "nbformat": 4,
 "nbformat_minor": 2
}
