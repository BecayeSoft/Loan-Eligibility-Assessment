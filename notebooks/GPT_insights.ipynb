{
 "cells": [
  {
   "cell_type": "markdown",
   "metadata": {},
   "source": [
    "# Generating insights from the model's predictions"
   ]
  },
  {
   "cell_type": "code",
   "execution_count": 35,
   "metadata": {},
   "outputs": [],
   "source": [
    "import sys\n",
    "sys.path.append('..')\n",
    "\n",
    "import pandas as pd\n",
    "import numpy as np\n",
    "np.set_printoptions(precision=3, suppress=True)\n",
    "\n",
    "from joblib import load\n",
    "\n",
    "# Interpretability\n",
    "import shap\n",
    "\n",
    "import os\n",
    "import openai\n",
    "from openai import OpenAI\n",
    "from dotenv import load_dotenv\n",
    "\n",
    "# Set transformers output to Pandas DataFrame instead of NumPy array\n",
    "from sklearn import set_config\n",
    "set_config(transform_output=\"pandas\")"
   ]
  },
  {
   "cell_type": "markdown",
   "metadata": {},
   "source": [
    "## Loading and prepare the data"
   ]
  },
  {
   "cell_type": "markdown",
   "metadata": {},
   "source": [
    "**Loading data**"
   ]
  },
  {
   "cell_type": "code",
   "execution_count": 5,
   "metadata": {},
   "outputs": [],
   "source": [
    "X_test = pd.read_csv('../data/raw/loan-data-test.csv')\n",
    "X_test.drop('Loan_ID', axis=1, inplace=True)"
   ]
  },
  {
   "cell_type": "markdown",
   "metadata": {},
   "source": [
    "**Loading preprocessing pipeline and model**"
   ]
  },
  {
   "cell_type": "code",
   "execution_count": 6,
   "metadata": {},
   "outputs": [],
   "source": [
    "with open('../models/model.pkl', 'rb') as f:\n",
    "    model = load(f)\n",
    "\n",
    "with open('../models/preprocessor.pkl', 'rb') as f:\n",
    "    preprocessor = load(f)"
   ]
  },
  {
   "cell_type": "markdown",
   "metadata": {},
   "source": [
    "**Preprocessing**"
   ]
  },
  {
   "cell_type": "code",
   "execution_count": 7,
   "metadata": {},
   "outputs": [],
   "source": [
    "# Mapping number of dependents to numerical values\n",
    "X_test.Dependents.replace('3+', 3, inplace=True)\n",
    "\n",
    "# Transforming the test set\n",
    "X_test = preprocessor.transform(X_test)"
   ]
  },
  {
   "cell_type": "markdown",
   "metadata": {},
   "source": [
    "## Getting the SHAP values"
   ]
  },
  {
   "cell_type": "markdown",
   "metadata": {},
   "source": [
    "**Unscaling the data**"
   ]
  },
  {
   "cell_type": "code",
   "execution_count": 8,
   "metadata": {},
   "outputs": [],
   "source": [
    "# Get the scaler and encoder object from the pipeline\n",
    "scaler = preprocessor.named_transformers_['numerical']['scaler']\n",
    "encoder = preprocessor.named_transformers_['categorical']['onehot']\n",
    "\n",
    "# Unscale the  data \n",
    "X_test_num_unscaled = scaler.inverse_transform(X_test[scaler.feature_names_in_])\n",
    "X_test_num_unscaled_df = pd.DataFrame(data=X_test_num_unscaled, columns=scaler.feature_names_in_)\n",
    "\n",
    "# Get the one-hot encoded features\n",
    "X_test_cat = X_test[encoder.get_feature_names_out()]\n",
    "\n",
    "# Reset the index before concatenation\n",
    "X_test_num_unscaled_df.reset_index(drop=True, inplace=True)\n",
    "X_test_cat.reset_index(drop=True, inplace=True)\n",
    "\n",
    "# Concat the unscaled numeric data and the categorical data\n",
    "X_test_unscaled = pd.concat([X_test_num_unscaled_df, X_test_cat], axis=1)"
   ]
  },
  {
   "cell_type": "markdown",
   "metadata": {},
   "source": [
    "### Creating a shap explainer"
   ]
  },
  {
   "cell_type": "code",
   "execution_count": 9,
   "metadata": {},
   "outputs": [],
   "source": [
    "explainer = shap.LinearExplainer(model, X_test)\n",
    "shap_explanation = explainer(X_test)\n",
    "\n",
    "# Replace the scaled values by the original ones\n",
    "shap_explanation.data = X_test_unscaled.values"
   ]
  },
  {
   "cell_type": "markdown",
   "metadata": {},
   "source": [
    "## Generate Insights"
   ]
  },
  {
   "cell_type": "code",
   "execution_count": 48,
   "metadata": {},
   "outputs": [],
   "source": [
    "feature_names = X_test.columns\n",
    "explanations_json = []\n",
    "i = 0\n",
    "\n",
    "# Predict the status\n",
    "predicted_status = model.predict(X_test.iloc[[i]])\n",
    "\n",
    "# Predict the probability\n",
    "predicted_proba = model.predict_proba(X_test.iloc[[i]])[0][1]\n",
    "\n",
    "# Get the explanation for the predicted status\n",
    "for name, value, shap_value in zip(feature_names, X_test.values[i], shap_explanation.values[i]):\n",
    "    explanation_json = {}\n",
    "    explanation_json[\"Feature name\"] = name\n",
    "    explanation_json[\"Value\"] = value\n",
    "    explanation_json[\"Score\"] = shap_value\n",
    "\n",
    "    if shap_value > 0:\n",
    "        explanation_json[\"Effect on Approval\"] = \"Increase\"\n",
    "    else:\n",
    "        explanation_json[\"Effect on Approval\"] = \"Decrease\"\n",
    "\n",
    "    explanations_json.append(explanation_json)\n",
    "\n",
    "# explanations_json"
   ]
  },
  {
   "cell_type": "code",
   "execution_count": 24,
   "metadata": {},
   "outputs": [
    {
     "data": {
      "text/plain": [
       "0.7657376776609758"
      ]
     },
     "execution_count": 24,
     "metadata": {},
     "output_type": "execute_result"
    }
   ],
   "source": [
    "predicted_proba"
   ]
  },
  {
   "cell_type": "code",
   "execution_count": 55,
   "metadata": {},
   "outputs": [
    {
     "data": {
      "text/html": [
       "<div>\n",
       "<style scoped>\n",
       "    .dataframe tbody tr th:only-of-type {\n",
       "        vertical-align: middle;\n",
       "    }\n",
       "\n",
       "    .dataframe tbody tr th {\n",
       "        vertical-align: top;\n",
       "    }\n",
       "\n",
       "    .dataframe thead th {\n",
       "        text-align: right;\n",
       "    }\n",
       "</style>\n",
       "<table border=\"1\" class=\"dataframe\">\n",
       "  <thead>\n",
       "    <tr style=\"text-align: right;\">\n",
       "      <th></th>\n",
       "      <th>Feature name</th>\n",
       "      <th>Value</th>\n",
       "      <th>Score</th>\n",
       "      <th>Effect on Approval</th>\n",
       "    </tr>\n",
       "  </thead>\n",
       "  <tbody>\n",
       "    <tr>\n",
       "      <th>12</th>\n",
       "      <td>Credit_History_1.0</td>\n",
       "      <td>1.000000</td>\n",
       "      <td>0.548731</td>\n",
       "      <td>Increase</td>\n",
       "    </tr>\n",
       "    <tr>\n",
       "      <th>2</th>\n",
       "      <td>CoapplicantIncome</td>\n",
       "      <td>-1.102837</td>\n",
       "      <td>-0.249998</td>\n",
       "      <td>Decrease</td>\n",
       "    </tr>\n",
       "    <tr>\n",
       "      <th>6</th>\n",
       "      <td>Married_Yes</td>\n",
       "      <td>1.000000</td>\n",
       "      <td>0.160357</td>\n",
       "      <td>Increase</td>\n",
       "    </tr>\n",
       "    <tr>\n",
       "      <th>7</th>\n",
       "      <td>Education_Not Graduate</td>\n",
       "      <td>0.000000</td>\n",
       "      <td>0.119659</td>\n",
       "      <td>Increase</td>\n",
       "    </tr>\n",
       "    <tr>\n",
       "      <th>10</th>\n",
       "      <td>Property_Area_Semiurban</td>\n",
       "      <td>0.000000</td>\n",
       "      <td>-0.117327</td>\n",
       "      <td>Decrease</td>\n",
       "    </tr>\n",
       "    <tr>\n",
       "      <th>1</th>\n",
       "      <td>ApplicantIncome</td>\n",
       "      <td>0.510576</td>\n",
       "      <td>0.108182</td>\n",
       "      <td>Increase</td>\n",
       "    </tr>\n",
       "    <tr>\n",
       "      <th>9</th>\n",
       "      <td>Property_Area_Rural</td>\n",
       "      <td>0.000000</td>\n",
       "      <td>0.105457</td>\n",
       "      <td>Increase</td>\n",
       "    </tr>\n",
       "    <tr>\n",
       "      <th>11</th>\n",
       "      <td>Property_Area_Urban</td>\n",
       "      <td>1.000000</td>\n",
       "      <td>-0.070489</td>\n",
       "      <td>Decrease</td>\n",
       "    </tr>\n",
       "    <tr>\n",
       "      <th>5</th>\n",
       "      <td>Gender_Male</td>\n",
       "      <td>1.000000</td>\n",
       "      <td>-0.041878</td>\n",
       "      <td>Decrease</td>\n",
       "    </tr>\n",
       "    <tr>\n",
       "      <th>0</th>\n",
       "      <td>Dependents</td>\n",
       "      <td>-0.827104</td>\n",
       "      <td>-0.035477</td>\n",
       "      <td>Decrease</td>\n",
       "    </tr>\n",
       "    <tr>\n",
       "      <th>3</th>\n",
       "      <td>LoanAmount</td>\n",
       "      <td>-0.325043</td>\n",
       "      <td>0.026137</td>\n",
       "      <td>Increase</td>\n",
       "    </tr>\n",
       "    <tr>\n",
       "      <th>8</th>\n",
       "      <td>Self_Employed_Yes</td>\n",
       "      <td>0.000000</td>\n",
       "      <td>0.021747</td>\n",
       "      <td>Increase</td>\n",
       "    </tr>\n",
       "    <tr>\n",
       "      <th>4</th>\n",
       "      <td>Loan_Amount_Term</td>\n",
       "      <td>0.175540</td>\n",
       "      <td>-0.006982</td>\n",
       "      <td>Decrease</td>\n",
       "    </tr>\n",
       "  </tbody>\n",
       "</table>\n",
       "</div>"
      ],
      "text/plain": [
       "               Feature name     Value     Score Effect on Approval\n",
       "12       Credit_History_1.0  1.000000  0.548731           Increase\n",
       "2         CoapplicantIncome -1.102837 -0.249998           Decrease\n",
       "6               Married_Yes  1.000000  0.160357           Increase\n",
       "7    Education_Not Graduate  0.000000  0.119659           Increase\n",
       "10  Property_Area_Semiurban  0.000000 -0.117327           Decrease\n",
       "1           ApplicantIncome  0.510576  0.108182           Increase\n",
       "9       Property_Area_Rural  0.000000  0.105457           Increase\n",
       "11      Property_Area_Urban  1.000000 -0.070489           Decrease\n",
       "5               Gender_Male  1.000000 -0.041878           Decrease\n",
       "0                Dependents -0.827104 -0.035477           Decrease\n",
       "3                LoanAmount -0.325043  0.026137           Increase\n",
       "8         Self_Employed_Yes  0.000000  0.021747           Increase\n",
       "4          Loan_Amount_Term  0.175540 -0.006982           Decrease"
      ]
     },
     "execution_count": 55,
     "metadata": {},
     "output_type": "execute_result"
    }
   ],
   "source": [
    "explanations_df = pd.DataFrame(explanations_json)\n",
    "\n",
    "# Sort feature by impact score\n",
    "explanations_df[\"Score (Abs)\"] = explanations_df[\"Score\"].abs()\n",
    "explanations_df.sort_values(by=\"Score (Abs)\", ascending=False, inplace=True)\n",
    "explanations_df.drop('Score (Abs)', axis=1, inplace=True)\n",
    "\n",
    "explanations_df"
   ]
  },
  {
   "cell_type": "markdown",
   "metadata": {},
   "source": [
    "## Generation GPT predictions"
   ]
  },
  {
   "cell_type": "code",
   "execution_count": 37,
   "metadata": {},
   "outputs": [],
   "source": [
    "_ = load_dotenv(\"../credentials.env\")\n",
    "openai.api_key = os.environ['OPENAI_API_KEY']"
   ]
  },
  {
   "cell_type": "code",
   "execution_count": 50,
   "metadata": {},
   "outputs": [
    {
     "data": {
      "text/plain": [
       "[{'Feature name': 'Dependents',\n",
       "  'Value': -0.8271043056395267,\n",
       "  'Score': -0.03547715913485509,\n",
       "  'Effect on Approval': 'Decrease'},\n",
       " {'Feature name': 'ApplicantIncome',\n",
       "  'Value': 0.5105760017940986,\n",
       "  'Score': 0.10818185353730546,\n",
       "  'Effect on Approval': 'Increase'},\n",
       " {'Feature name': 'CoapplicantIncome',\n",
       "  'Value': -1.1028368386382617,\n",
       "  'Score': -0.24999798202926116,\n",
       "  'Effect on Approval': 'Decrease'},\n",
       " {'Feature name': 'LoanAmount',\n",
       "  'Value': -0.3250427419068526,\n",
       "  'Score': 0.026137169856863533,\n",
       "  'Effect on Approval': 'Increase'},\n",
       " {'Feature name': 'Loan_Amount_Term',\n",
       "  'Value': 0.17554003661788928,\n",
       "  'Score': -0.006982345180569146,\n",
       "  'Effect on Approval': 'Decrease'},\n",
       " {'Feature name': 'Gender_Male',\n",
       "  'Value': 1.0,\n",
       "  'Score': -0.04187830975371162,\n",
       "  'Effect on Approval': 'Decrease'},\n",
       " {'Feature name': 'Married_Yes',\n",
       "  'Value': 1.0,\n",
       "  'Score': 0.16035732394109922,\n",
       "  'Effect on Approval': 'Increase'},\n",
       " {'Feature name': 'Education_Not Graduate',\n",
       "  'Value': 0.0,\n",
       "  'Score': 0.11965949857439803,\n",
       "  'Effect on Approval': 'Increase'},\n",
       " {'Feature name': 'Self_Employed_Yes',\n",
       "  'Value': 0.0,\n",
       "  'Score': 0.021746680828360593,\n",
       "  'Effect on Approval': 'Increase'},\n",
       " {'Feature name': 'Property_Area_Rural',\n",
       "  'Value': 0.0,\n",
       "  'Score': 0.10545650841035353,\n",
       "  'Effect on Approval': 'Increase'},\n",
       " {'Feature name': 'Property_Area_Semiurban',\n",
       "  'Value': 0.0,\n",
       "  'Score': -0.11732674498396924,\n",
       "  'Effect on Approval': 'Decrease'},\n",
       " {'Feature name': 'Property_Area_Urban',\n",
       "  'Value': 1.0,\n",
       "  'Score': -0.0704886744413742,\n",
       "  'Effect on Approval': 'Decrease'},\n",
       " {'Feature name': 'Credit_History_1.0',\n",
       "  'Value': 1.0,\n",
       "  'Score': 0.5487312334255685,\n",
       "  'Effect on Approval': 'Increase'}]"
      ]
     },
     "execution_count": 50,
     "metadata": {},
     "output_type": "execute_result"
    }
   ],
   "source": [
    "explanations_json"
   ]
  },
  {
   "cell_type": "code",
   "execution_count": 59,
   "metadata": {},
   "outputs": [],
   "source": [
    "system_prompt = \"\"\"\n",
    "You are the assistant of a loan eligibility officer who doesn't know much about machine learning. \n",
    "A data scientist built a machine learning model to predict whether or not a loan applicant is eligible for a loan.\n",
    "You are tasked to explain the model's predictions based on the SHAP values of the model's features. \n",
    "Your report should focus more on the features that most impacted the model's decision, and how they impacted it.\n",
    "Remember, you are explaining the model's decision to a non-technical person.\n",
    "\"\"\"\n",
    "\n",
    "query = f\"\"\"\"\n",
    "Here are the features of the model:\n",
    "- Dependents: Number of dependents of the applicant \n",
    "- ApplicantIncome: Income of the applicant\n",
    "- CoapplicantIncome: Income of the co-applicant\n",
    "- LoanAmount: Loan amount in thousands\n",
    "- Loan_Amount_Term: Term of the loan in months\n",
    "- Gender_Male: 1 if the applicant is a male, 0 otherwise\n",
    "- Married_Yes: 1 if the applicant is married, 0 otherwise\n",
    "- Education_Not Graduate: 1 if the applicant is not a graduate, 0 otherwise\n",
    "- Self_Employed_Yes: 1 if the applicant is self-employed, 0 otherwise\n",
    "- Property_Area_Rural: 1 if the property is in a rural area, 0 otherwise\n",
    "- Property_Area_Semiurban: 1 if the property is in a semiurban area, 0 otherwise\n",
    "- Property_Area_Urban: 1 if the property is in an urban area, 0 otherwise\n",
    "- Credit_History_1.0: 1 if the applicant has a credit history, 0 otherwise\n",
    "\n",
    "Here are the expanations for the applicant:\n",
    "{explanation_json}\n",
    "\n",
    "Note that the \"Score\" is simply the SHAP value of the feature. \n",
    "\n",
    "Here is what the model predicted:\n",
    "Predicted status: {predicted_status}\n",
    "Probability of approval: {predicted_proba}\n",
    "\n",
    "Base on this information, generate a report to explain the model's decision.\n",
    "\"\"\""
   ]
  },
  {
   "cell_type": "code",
   "execution_count": 60,
   "metadata": {},
   "outputs": [],
   "source": [
    "def generate_response(system_prompt, query):\n",
    "\t\"\"\"Generate a response to a query based on a system prompt\"\"\"\n",
    "\tcompletion = openai.chat.completions.create(\n",
    "\t\tmodel=\"gpt-3.5-turbo\",\n",
    "\t\tmessages=[\n",
    "\t\t\t{\"role\": \"system\", \"content\": system_prompt},\n",
    "\t\t\t{\"role\": \"user\", \"content\": query}\n",
    "\t\t]\n",
    "\t)\n",
    "\n",
    "\treturn completion.choices[0].message.content\n",
    "\n",
    "response = generate_response(system_prompt, query)"
   ]
  },
  {
   "cell_type": "code",
   "execution_count": null,
   "metadata": {},
   "outputs": [
    {
     "name": "stdout",
     "output_type": "stream",
     "text": [
      "Based on the analysis of the loan application, the model predicts that the applicant is eligible for a loan. The most influential factor in this decision is the applicant's credit history. \n",
      "\n",
      "The model considers the applicant's credit history to be an important indicator of their reliability when it comes to repaying the loan. In this case, the applicant has a credit history, which greatly increases the chances of loan approval. \n",
      "\n",
      "The model assigns a score to each feature, called the SHAP value, which represents the impact of that feature on the final decision. A higher SHAP value indicates a stronger influence on the decision. In this case, the credit history of the applicant has the highest SHAP value, indicating its significant role in the model's decision-making process.\n",
      "\n",
      "Based on the prediction of the model, the applicant has a 76.6% chance of loan approval. This probability is a result of various factors, with the credit history being the most influential one.\n",
      "\n",
      "It is important to note that the model takes into account other features as well, such as the number of dependents, income of the applicant and co-applicant, loan amount, loan term, gender, marital status, education level, employment status, and property location. However, in this case, the credit history seems to be the most important factor in determining the loan eligibility of the applicant.\n",
      "\n",
      "By understanding and considering the importance of a good credit history, the applicant can increase their chances of loan approval and improve their financial standing.\n"
     ]
    }
   ],
   "source": [
    "print(response)"
   ]
  },
  {
   "cell_type": "markdown",
   "metadata": {},
   "source": [
    "## Save the report"
   ]
  },
  {
   "cell_type": "code",
   "execution_count": null,
   "metadata": {},
   "outputs": [],
   "source": [
    "# Convert my dataframe as markdown table\n",
    "explanations_df.to_markdown()"
   ]
  },
  {
   "cell_type": "code",
   "execution_count": null,
   "metadata": {},
   "outputs": [],
   "source": [
    "# We will save the report as Markdown file\n",
    "# The report will contains the dataframe as a table and the response from GPT-3\n",
    "report = f\"\"\"\n",
    "# Loan Approval Decision Report\n",
    "\n",
    "## Applicant Information\n",
    "\n",
    "{explanations_df.to_markdown()}\n",
    "\n",
    "## Model Decision\n",
    "\n",
    "{response}\n",
    "\"\"\"\n",
    "\n",
    "with open('../reports/loan_approval_decision_report.md', 'w') as f:\n",
    "    f.write(report)"
   ]
  }
 ],
 "metadata": {
  "kernelspec": {
   "display_name": ".env",
   "language": "python",
   "name": "python3"
  },
  "language_info": {
   "codemirror_mode": {
    "name": "ipython",
    "version": 3
   },
   "file_extension": ".py",
   "mimetype": "text/x-python",
   "name": "python",
   "nbconvert_exporter": "python",
   "pygments_lexer": "ipython3",
   "version": "3.10.0"
  }
 },
 "nbformat": 4,
 "nbformat_minor": 2
}
