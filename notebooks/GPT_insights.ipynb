{
 "cells": [
  {
   "cell_type": "markdown",
   "metadata": {},
   "source": [
    "# Generating insights from the model's predictions"
   ]
  },
  {
   "cell_type": "code",
   "execution_count": 1,
   "metadata": {},
   "outputs": [
    {
     "name": "stderr",
     "output_type": "stream",
     "text": [
      "IProgress not found. Please update jupyter and ipywidgets. See https://ipywidgets.readthedocs.io/en/stable/user_install.html\n"
     ]
    }
   ],
   "source": [
    "import sys\n",
    "sys.path.append('..')\n",
    "\n",
    "import pandas as pd\n",
    "import numpy as np\n",
    "np.set_printoptions(precision=3, suppress=True)\n",
    "\n",
    "from joblib import load\n",
    "\n",
    "# Interpretability\n",
    "import shap\n",
    "\n",
    "import os\n",
    "import openai\n",
    "from openai import OpenAI\n",
    "from dotenv import load_dotenv\n",
    "\n",
    "# Set transformers output to Pandas DataFrame instead of NumPy array\n",
    "from sklearn import set_config\n",
    "set_config(transform_output=\"pandas\")"
   ]
  },
  {
   "cell_type": "markdown",
   "metadata": {},
   "source": [
    "## Loading and prepare the data"
   ]
  },
  {
   "cell_type": "markdown",
   "metadata": {},
   "source": [
    "**Loading data**"
   ]
  },
  {
   "cell_type": "code",
   "execution_count": 2,
   "metadata": {},
   "outputs": [],
   "source": [
    "X_test = pd.read_csv('../data/raw/loan-data-test.csv')\n",
    "X_test.drop('Loan_ID', axis=1, inplace=True)"
   ]
  },
  {
   "cell_type": "markdown",
   "metadata": {},
   "source": [
    "**Loading preprocessing pipeline and model**"
   ]
  },
  {
   "cell_type": "code",
   "execution_count": 3,
   "metadata": {},
   "outputs": [],
   "source": [
    "with open('../models/model.pkl', 'rb') as f:\n",
    "    model = load(f)\n",
    "\n",
    "with open('../models/preprocessor.pkl', 'rb') as f:\n",
    "    preprocessor = load(f)"
   ]
  },
  {
   "cell_type": "markdown",
   "metadata": {},
   "source": [
    "**Preprocessing**"
   ]
  },
  {
   "cell_type": "code",
   "execution_count": 4,
   "metadata": {},
   "outputs": [],
   "source": [
    "# Mapping number of dependents to numerical values\n",
    "X_test.Dependents.replace('3+', 3, inplace=True)\n",
    "\n",
    "# Transforming the test set\n",
    "X_test = preprocessor.transform(X_test)"
   ]
  },
  {
   "cell_type": "markdown",
   "metadata": {},
   "source": [
    "## Getting the SHAP values"
   ]
  },
  {
   "cell_type": "markdown",
   "metadata": {},
   "source": [
    "**Unscaling the data**"
   ]
  },
  {
   "cell_type": "code",
   "execution_count": 5,
   "metadata": {},
   "outputs": [],
   "source": [
    "# Get the scaler and encoder object from the pipeline\n",
    "scaler = preprocessor.named_transformers_['numerical']['scaler']\n",
    "encoder = preprocessor.named_transformers_['categorical']['onehot']\n",
    "\n",
    "# Unscale the  data \n",
    "X_test_num_unscaled = scaler.inverse_transform(X_test[scaler.feature_names_in_])\n",
    "X_test_num_unscaled_df = pd.DataFrame(data=X_test_num_unscaled, columns=scaler.feature_names_in_)\n",
    "\n",
    "# Get the one-hot encoded features\n",
    "X_test_cat = X_test[encoder.get_feature_names_out()]\n",
    "\n",
    "# Reset the index before concatenation\n",
    "X_test_num_unscaled_df.reset_index(drop=True, inplace=True)\n",
    "X_test_cat.reset_index(drop=True, inplace=True)\n",
    "\n",
    "# Concat the unscaled numeric data and the categorical data\n",
    "X_test_unscaled = pd.concat([X_test_num_unscaled_df, X_test_cat], axis=1)"
   ]
  },
  {
   "cell_type": "markdown",
   "metadata": {},
   "source": [
    "### Creating a shap explainer"
   ]
  },
  {
   "cell_type": "code",
   "execution_count": 6,
   "metadata": {},
   "outputs": [],
   "source": [
    "explainer = shap.LinearExplainer(model, X_test)\n",
    "shap_explanation = explainer(X_test)\n",
    "\n",
    "# Replace the scaled values by the original ones\n",
    "shap_explanation.data = X_test_unscaled.values"
   ]
  },
  {
   "cell_type": "markdown",
   "metadata": {},
   "source": [
    "## Generate Insights"
   ]
  },
  {
   "cell_type": "code",
   "execution_count": 7,
   "metadata": {},
   "outputs": [],
   "source": [
    "feature_names = X_test.columns\n",
    "explanations_json = []\n",
    "i = 0\n",
    "\n",
    "# Predict the status\n",
    "predicted_status = model.predict(X_test.iloc[[i]])\n",
    "\n",
    "# Predict the probability\n",
    "predicted_proba = np.round(\n",
    "    model.predict_proba(X_test.iloc[[i]])[0][1] * 100\n",
    ").astype(int)\n",
    "\n",
    "# Get the explanation for the predicted status\n",
    "for name, value, shap_value in zip(feature_names, X_test.values[i], shap_explanation.values[i]):\n",
    "    explanation_json = {}\n",
    "    explanation_json[\"Name\"] = name\n",
    "    explanation_json[\"Value\"] = value\n",
    "    explanation_json[\"SHAP Value\"] = shap_value\n",
    "    explanation_json[\"Effect on Approval\"] = \"Positive\" if shap_value > 0 else \"Negative\"\n",
    "\n",
    "    explanations_json.append(explanation_json)\n",
    "\n",
    "# explanations_json"
   ]
  },
  {
   "cell_type": "code",
   "execution_count": 8,
   "metadata": {},
   "outputs": [
    {
     "data": {
      "text/html": [
       "<div>\n",
       "<style scoped>\n",
       "    .dataframe tbody tr th:only-of-type {\n",
       "        vertical-align: middle;\n",
       "    }\n",
       "\n",
       "    .dataframe tbody tr th {\n",
       "        vertical-align: top;\n",
       "    }\n",
       "\n",
       "    .dataframe thead th {\n",
       "        text-align: right;\n",
       "    }\n",
       "</style>\n",
       "<table border=\"1\" class=\"dataframe\">\n",
       "  <thead>\n",
       "    <tr style=\"text-align: right;\">\n",
       "      <th></th>\n",
       "      <th>Name</th>\n",
       "      <th>Value</th>\n",
       "      <th>SHAP Value</th>\n",
       "      <th>Effect on Approval</th>\n",
       "    </tr>\n",
       "  </thead>\n",
       "  <tbody>\n",
       "    <tr>\n",
       "      <th>12</th>\n",
       "      <td>Credit_History_1.0</td>\n",
       "      <td>1.000000</td>\n",
       "      <td>0.548731</td>\n",
       "      <td>Positive</td>\n",
       "    </tr>\n",
       "    <tr>\n",
       "      <th>2</th>\n",
       "      <td>CoapplicantIncome</td>\n",
       "      <td>-1.102837</td>\n",
       "      <td>-0.249998</td>\n",
       "      <td>Negative</td>\n",
       "    </tr>\n",
       "    <tr>\n",
       "      <th>6</th>\n",
       "      <td>Married_Yes</td>\n",
       "      <td>1.000000</td>\n",
       "      <td>0.160357</td>\n",
       "      <td>Positive</td>\n",
       "    </tr>\n",
       "    <tr>\n",
       "      <th>7</th>\n",
       "      <td>Education_Not Graduate</td>\n",
       "      <td>0.000000</td>\n",
       "      <td>0.119659</td>\n",
       "      <td>Positive</td>\n",
       "    </tr>\n",
       "    <tr>\n",
       "      <th>10</th>\n",
       "      <td>Property_Area_Semiurban</td>\n",
       "      <td>0.000000</td>\n",
       "      <td>-0.117327</td>\n",
       "      <td>Negative</td>\n",
       "    </tr>\n",
       "    <tr>\n",
       "      <th>1</th>\n",
       "      <td>ApplicantIncome</td>\n",
       "      <td>0.510576</td>\n",
       "      <td>0.108182</td>\n",
       "      <td>Positive</td>\n",
       "    </tr>\n",
       "    <tr>\n",
       "      <th>9</th>\n",
       "      <td>Property_Area_Rural</td>\n",
       "      <td>0.000000</td>\n",
       "      <td>0.105457</td>\n",
       "      <td>Positive</td>\n",
       "    </tr>\n",
       "    <tr>\n",
       "      <th>11</th>\n",
       "      <td>Property_Area_Urban</td>\n",
       "      <td>1.000000</td>\n",
       "      <td>-0.070489</td>\n",
       "      <td>Negative</td>\n",
       "    </tr>\n",
       "    <tr>\n",
       "      <th>5</th>\n",
       "      <td>Gender_Male</td>\n",
       "      <td>1.000000</td>\n",
       "      <td>-0.041878</td>\n",
       "      <td>Negative</td>\n",
       "    </tr>\n",
       "    <tr>\n",
       "      <th>0</th>\n",
       "      <td>Dependents</td>\n",
       "      <td>-0.827104</td>\n",
       "      <td>-0.035477</td>\n",
       "      <td>Negative</td>\n",
       "    </tr>\n",
       "    <tr>\n",
       "      <th>3</th>\n",
       "      <td>LoanAmount</td>\n",
       "      <td>-0.325043</td>\n",
       "      <td>0.026137</td>\n",
       "      <td>Positive</td>\n",
       "    </tr>\n",
       "    <tr>\n",
       "      <th>8</th>\n",
       "      <td>Self_Employed_Yes</td>\n",
       "      <td>0.000000</td>\n",
       "      <td>0.021747</td>\n",
       "      <td>Positive</td>\n",
       "    </tr>\n",
       "    <tr>\n",
       "      <th>4</th>\n",
       "      <td>Loan_Amount_Term</td>\n",
       "      <td>0.175540</td>\n",
       "      <td>-0.006982</td>\n",
       "      <td>Negative</td>\n",
       "    </tr>\n",
       "  </tbody>\n",
       "</table>\n",
       "</div>"
      ],
      "text/plain": [
       "                       Name     Value  SHAP Value Effect on Approval\n",
       "12       Credit_History_1.0  1.000000    0.548731           Positive\n",
       "2         CoapplicantIncome -1.102837   -0.249998           Negative\n",
       "6               Married_Yes  1.000000    0.160357           Positive\n",
       "7    Education_Not Graduate  0.000000    0.119659           Positive\n",
       "10  Property_Area_Semiurban  0.000000   -0.117327           Negative\n",
       "1           ApplicantIncome  0.510576    0.108182           Positive\n",
       "9       Property_Area_Rural  0.000000    0.105457           Positive\n",
       "11      Property_Area_Urban  1.000000   -0.070489           Negative\n",
       "5               Gender_Male  1.000000   -0.041878           Negative\n",
       "0                Dependents -0.827104   -0.035477           Negative\n",
       "3                LoanAmount -0.325043    0.026137           Positive\n",
       "8         Self_Employed_Yes  0.000000    0.021747           Positive\n",
       "4          Loan_Amount_Term  0.175540   -0.006982           Negative"
      ]
     },
     "execution_count": 8,
     "metadata": {},
     "output_type": "execute_result"
    }
   ],
   "source": [
    "explanations_df = pd.DataFrame(explanations_json)\n",
    "\n",
    "# Sort feature by impact score\n",
    "explanations_df[\"SHAP Value (Abs)\"] = explanations_df[\"SHAP Value\"].abs()\n",
    "explanations_df.sort_values(by=\"SHAP Value (Abs)\", ascending=False, inplace=True)\n",
    "explanations_df.drop(\"SHAP Value (Abs)\", axis=1, inplace=True)\n",
    "explanations_df"
   ]
  },
  {
   "cell_type": "markdown",
   "metadata": {},
   "source": [
    "## Generation GPT predictions"
   ]
  },
  {
   "cell_type": "code",
   "execution_count": 9,
   "metadata": {},
   "outputs": [],
   "source": [
    "_ = load_dotenv(\"../credentials.env\")\n",
    "openai.api_key = os.environ['OPENAI_API_KEY']"
   ]
  },
  {
   "cell_type": "code",
   "execution_count": 10,
   "metadata": {},
   "outputs": [
    {
     "name": "stdout",
     "output_type": "stream",
     "text": [
      "\n",
      "Below are the definitions of the features:\n",
      "- Dependents: Number of dependents of the applicant \n",
      "- ApplicantIncome: Income of the applicant\n",
      "- CoapplicantIncome: Income of the co-applicant\n",
      "- LoanAmount: Loan amount in thousands\n",
      "- Loan_Amount_Term: Term of the loan in months\n",
      "- Gender_Male: 1 if the applicant is a male, 0 otherwise\n",
      "- Married_Yes: 1 if the applicant is married, 0 otherwise\n",
      "- Education_Not Graduate: 1 if the applicant is not a graduate, 0 otherwise\n",
      "- Self_Employed_Yes: 1 if the applicant is self-employed, 0 otherwise\n",
      "- Property_Area_Rural: 1 if the property is in a rural area, 0 otherwise\n",
      "- Property_Area_Semiurban: 1 if the property is in a semiurban area, 0 otherwise\n",
      "- Property_Area_Urban: 1 if the property is in an urban area, 0 otherwise\n",
      "- Credit_History_1.0: 1 if the applicant has a credit history, 0 otherwise\n",
      "\n",
      "Below are the names, values, SHAP values, and effects for each prediction in a JSON format:\n",
      "[{'Name': 'Dependents', 'Value': -0.8271043056395267, 'SHAP Value': -0.03547715913485509, 'Effect on Approval': 'Negative'}, {'Name': 'ApplicantIncome', 'Value': 0.5105760017940986, 'SHAP Value': 0.10818185353730546, 'Effect on Approval': 'Positive'}, {'Name': 'CoapplicantIncome', 'Value': -1.1028368386382617, 'SHAP Value': -0.24999798202926116, 'Effect on Approval': 'Negative'}, {'Name': 'LoanAmount', 'Value': -0.3250427419068526, 'SHAP Value': 0.026137169856863533, 'Effect on Approval': 'Positive'}, {'Name': 'Loan_Amount_Term', 'Value': 0.17554003661788928, 'SHAP Value': -0.006982345180569146, 'Effect on Approval': 'Negative'}, {'Name': 'Gender_Male', 'Value': 1.0, 'SHAP Value': -0.04187830975371162, 'Effect on Approval': 'Negative'}, {'Name': 'Married_Yes', 'Value': 1.0, 'SHAP Value': 0.16035732394109922, 'Effect on Approval': 'Positive'}, {'Name': 'Education_Not Graduate', 'Value': 0.0, 'SHAP Value': 0.11965949857439803, 'Effect on Approval': 'Positive'}, {'Name': 'Self_Employed_Yes', 'Value': 0.0, 'SHAP Value': 0.021746680828360593, 'Effect on Approval': 'Positive'}, {'Name': 'Property_Area_Rural', 'Value': 0.0, 'SHAP Value': 0.10545650841035353, 'Effect on Approval': 'Positive'}, {'Name': 'Property_Area_Semiurban', 'Value': 0.0, 'SHAP Value': -0.11732674498396924, 'Effect on Approval': 'Negative'}, {'Name': 'Property_Area_Urban', 'Value': 1.0, 'SHAP Value': -0.0704886744413742, 'Effect on Approval': 'Negative'}, {'Name': 'Credit_History_1.0', 'Value': 1.0, 'SHAP Value': 0.5487312334255685, 'Effect on Approval': 'Positive'}]\n",
      "\n",
      "Below is the prediction of the model:\n",
      "Predicted status: [1]\n",
      "Probability of approval: 77%\n",
      "\n",
      "Based on the information on feature names, values, SHAP values, and effects, generate a report to explain the model's decision.\n",
      "\n"
     ]
    }
   ],
   "source": [
    "system_prompt = \"\"\"\n",
    "You are the assistant of a loan eligibility officer who doesn't know much about machine learning. \n",
    "A data scientist built a machine learning model to predict whether or not a loan applicant is eligible for a loan.\n",
    "You are tasked to explain the model's predictions based on the SHAP (SHapley Additive exPlanations) values of the model's features. \n",
    "Your report should focus more on the features that most impacted the model's decision and how they impacted it.\n",
    "Remember, you are explaining the model's decision to a non-technical person.\n",
    "\"\"\"\n",
    "\n",
    "query = f\"\"\"\n",
    "Below are the definitions of the features:\n",
    "- Dependents: Number of dependents of the applicant \n",
    "- ApplicantIncome: Income of the applicant\n",
    "- CoapplicantIncome: Income of the co-applicant\n",
    "- LoanAmount: Loan amount in thousands\n",
    "- Loan_Amount_Term: Term of the loan in months\n",
    "- Gender_Male: 1 if the applicant is a male, 0 otherwise\n",
    "- Married_Yes: 1 if the applicant is married, 0 otherwise\n",
    "- Education_Not Graduate: 1 if the applicant is not a graduate, 0 otherwise\n",
    "- Self_Employed_Yes: 1 if the applicant is self-employed, 0 otherwise\n",
    "- Property_Area_Rural: 1 if the property is in a rural area, 0 otherwise\n",
    "- Property_Area_Semiurban: 1 if the property is in a semiurban area, 0 otherwise\n",
    "- Property_Area_Urban: 1 if the property is in an urban area, 0 otherwise\n",
    "- Credit_History_1.0: 1 if the applicant has a credit history, 0 otherwise\n",
    "\n",
    "Below are the names, values, SHAP values, and effects for each prediction in a JSON format:\n",
    "{explanations_json}\n",
    "\n",
    "Below is the prediction of the model:\n",
    "Predicted status: {predicted_status}\n",
    "Probability of approval: {predicted_proba}%\n",
    "\n",
    "Based on the information on feature names, values, SHAP values, and effects, generate a report to explain the model's decision.\n",
    "\"\"\"\n",
    "\n",
    "print(query)"
   ]
  },
  {
   "cell_type": "code",
   "execution_count": 11,
   "metadata": {},
   "outputs": [],
   "source": [
    "def generate_response(system_prompt, query):\n",
    "\t\"\"\"Generate a response to a query based on a system prompt\"\"\"\n",
    "\tcompletion = openai.chat.completions.create(\n",
    "\t\tmodel=\"gpt-3.5-turbo\",\n",
    "\t\tmessages=[\n",
    "\t\t\t{\"role\": \"system\", \"content\": system_prompt},\n",
    "\t\t\t{\"role\": \"user\", \"content\": query}\n",
    "\t\t]\n",
    "\t)\n",
    "\n",
    "\treturn completion.choices[0].message.content\n",
    "\n",
    "response = generate_response(system_prompt, query)"
   ]
  },
  {
   "cell_type": "code",
   "execution_count": 12,
   "metadata": {},
   "outputs": [
    {
     "name": "stdout",
     "output_type": "stream",
     "text": [
      "Based on the machine learning model's predictions, it has determined that the loan application is eligible for approval with a probability of 77%.\n",
      "\n",
      "Now let's analyze the impact of each feature on the model's decision:\n",
      "\n",
      "1. Dependents: The number of dependents that the applicant has. A negative SHAP value (-0.04) indicates that having more dependents has a slightly negative effect on the approval decision.\n",
      "\n",
      "2. ApplicantIncome: The income of the applicant. A positive SHAP value (0.11) indicates that higher income has a positive impact on the approval decision.\n",
      "\n",
      "3. CoapplicantIncome: The income of the co-applicant. A negative SHAP value (-0.25) suggests that a higher co-applicant income has a negative effect on the approval decision.\n",
      "\n",
      "4. LoanAmount: The amount of the loan requested. A positive SHAP value (0.03) suggests that a larger loan amount has a slightly positive impact on the approval decision.\n",
      "\n",
      "5. Loan_Amount_Term: The term of the loan in months. A negative SHAP value (-0.007) suggests that a longer loan term has a slightly negative effect on the approval decision.\n",
      "\n",
      "6. Gender_Male: Indicates whether the applicant is male. A negative SHAP value (-0.04) suggests that being a male has a slightly negative effect on the approval decision.\n",
      "\n",
      "7. Married_Yes: Indicates whether the applicant is married. A positive SHAP value (0.16) indicates that being married has a positive impact on the approval decision.\n",
      "\n",
      "8. Education_Not Graduate: Indicates whether the applicant is a graduate. A positive SHAP value (0.12) suggests that being a non-graduate has a positive impact on the approval decision.\n",
      "\n",
      "9. Self_Employed_Yes: Indicates whether the applicant is self-employed. A positive SHAP value (0.02) suggests that being self-employed has a small positive impact on the approval decision.\n",
      "\n",
      "10. Property_Area_Rural: Indicates whether the property is in a rural area. A positive SHAP value (0.11) suggests that having a rural property has a positive impact on the approval decision.\n",
      "\n",
      "11. Property_Area_Semiurban: Indicates whether the property is in a semi-urban area. A negative SHAP value (-0.12) suggests that having a semi-urban property has a slightly negative effect on the approval decision.\n",
      "\n",
      "12. Property_Area_Urban: Indicates whether the property is in an urban area. A negative SHAP value (-0.07) suggests that having an urban property has a slightly negative effect on the approval decision.\n",
      "\n",
      "13. Credit_History_1.0: Indicates whether the applicant has a credit history. A positive SHAP value (0.55) suggests that having a credit history has a strong positive impact on the approval decision.\n",
      "\n",
      "From the analysis of the SHAP values, it is observed that the most influential features on the model's decision are:\n",
      "- Credit_History_1.0: Having a credit history is the most influential feature in determining the approval decision. It strongly contributes to an increased probability of approval.\n",
      "- ApplicantIncome: Higher income positively impacts the approval decision.\n",
      "- Married_Yes: Being married also has a positive impact on the approval decision.\n",
      "\n",
      "On the other hand, the following features slightly reduce the probability of approval:\n",
      "- CoapplicantIncome: Higher co-applicant income negatively affects the approval decision.\n",
      "- Loan_Amount_Term: Longer loan terms have a slight negative impact on the approval decision.\n",
      "- Property_Area_Semiurban: Having a property in a semi-urban area slightly reduces the probability of approval.\n",
      "\n",
      "It is important to note that these SHAP values indicate the relative importance and effect of each feature on the model's decision. Each feature contributes differently to the final decision, and the model takes into account various factors to make its prediction.\n"
     ]
    }
   ],
   "source": [
    "print(response)"
   ]
  },
  {
   "cell_type": "markdown",
   "metadata": {},
   "source": [
    "## Save the report"
   ]
  },
  {
   "cell_type": "code",
   "execution_count": 19,
   "metadata": {},
   "outputs": [
    {
     "name": "stdout",
     "output_type": "stream",
     "text": [
      "|    | Name                    |     Value |   Impact Score | Effect on Approval   |\n",
      "|---:|:------------------------|----------:|---------------:|:---------------------|\n",
      "| 12 | Credit_History_1.0      |  1        |     0.548731   | Positive             |\n",
      "|  2 | CoapplicantIncome       | -1.10284  |    -0.249998   | Negative             |\n",
      "|  6 | Married_Yes             |  1        |     0.160357   | Positive             |\n",
      "|  7 | Education_Not Graduate  |  0        |     0.119659   | Positive             |\n",
      "| 10 | Property_Area_Semiurban |  0        |    -0.117327   | Negative             |\n",
      "|  1 | ApplicantIncome         |  0.510576 |     0.108182   | Positive             |\n",
      "|  9 | Property_Area_Rural     |  0        |     0.105457   | Positive             |\n",
      "| 11 | Property_Area_Urban     |  1        |    -0.0704887  | Negative             |\n",
      "|  5 | Gender_Male             |  1        |    -0.0418783  | Negative             |\n",
      "|  0 | Dependents              | -0.827104 |    -0.0354772  | Negative             |\n",
      "|  3 | LoanAmount              | -0.325043 |     0.0261372  | Positive             |\n",
      "|  8 | Self_Employed_Yes       |  0        |     0.0217467  | Positive             |\n",
      "|  4 | Loan_Amount_Term        |  0.17554  |    -0.00698235 | Negative             |\n"
     ]
    }
   ],
   "source": [
    "# Rename SHAP value to Impact Score for better understanding\n",
    "explanations_df.rename(columns={\"SHAP Value\": \"Impact Score\"}, inplace=True)\n",
    "\n",
    "# Convert my dataframe as markdown table\n",
    "print(explanations_df.to_markdown())"
   ]
  },
  {
   "cell_type": "code",
   "execution_count": 20,
   "metadata": {},
   "outputs": [],
   "source": [
    "# We will save the report as Markdown file\n",
    "# The report will contains the dataframe as a table and the response from GPT-3\n",
    "report = f\"\"\"\n",
    "# Loan Approval Decision Report\n",
    "\n",
    "## Applicant Information\n",
    "\n",
    "{explanations_df.to_markdown()}\n",
    "\n",
    "## Model Decision\n",
    "\n",
    "{response}\n",
    "\"\"\"\n",
    "\n",
    "with open('../reports/loan_approval_decision_report.md', 'w') as f:\n",
    "    f.write(report)"
   ]
  },
  {
   "cell_type": "code",
   "execution_count": 21,
   "metadata": {},
   "outputs": [
    {
     "name": "stdout",
     "output_type": "stream",
     "text": [
      "\n",
      "# Loan Approval Decision Report\n",
      "\n",
      "## Applicant Information\n",
      "\n",
      "|    | Name                    |     Value |   Impact Score | Effect on Approval   |\n",
      "|---:|:------------------------|----------:|---------------:|:---------------------|\n",
      "| 12 | Credit_History_1.0      |  1        |     0.548731   | Positive             |\n",
      "|  2 | CoapplicantIncome       | -1.10284  |    -0.249998   | Negative             |\n",
      "|  6 | Married_Yes             |  1        |     0.160357   | Positive             |\n",
      "|  7 | Education_Not Graduate  |  0        |     0.119659   | Positive             |\n",
      "| 10 | Property_Area_Semiurban |  0        |    -0.117327   | Negative             |\n",
      "|  1 | ApplicantIncome         |  0.510576 |     0.108182   | Positive             |\n",
      "|  9 | Property_Area_Rural     |  0        |     0.105457   | Positive             |\n",
      "| 11 | Property_Area_Urban     |  1        |    -0.0704887  | Negative             |\n",
      "|  5 | Gender_Male             |  1        |    -0.0418783  | Negative             |\n",
      "|  0 | Dependents              | -0.827104 |    -0.0354772  | Negative             |\n",
      "|  3 | LoanAmount              | -0.325043 |     0.0261372  | Positive             |\n",
      "|  8 | Self_Employed_Yes       |  0        |     0.0217467  | Positive             |\n",
      "|  4 | Loan_Amount_Term        |  0.17554  |    -0.00698235 | Negative             |\n",
      "\n",
      "## Model Decision\n",
      "\n",
      "Based on the machine learning model's predictions, it has determined that the loan application is eligible for approval with a probability of 77%.\n",
      "\n",
      "Now let's analyze the impact of each feature on the model's decision:\n",
      "\n",
      "1. Dependents: The number of dependents that the applicant has. A negative SHAP value (-0.04) indicates that having more dependents has a slightly negative effect on the approval decision.\n",
      "\n",
      "2. ApplicantIncome: The income of the applicant. A positive SHAP value (0.11) indicates that higher income has a positive impact on the approval decision.\n",
      "\n",
      "3. CoapplicantIncome: The income of the co-applicant. A negative SHAP value (-0.25) suggests that a higher co-applicant income has a negative effect on the approval decision.\n",
      "\n",
      "4. LoanAmount: The amount of the loan requested. A positive SHAP value (0.03) suggests that a larger loan amount has a slightly positive impact on the approval decision.\n",
      "\n",
      "5. Loan_Amount_Term: The term of the loan in months. A negative SHAP value (-0.007) suggests that a longer loan term has a slightly negative effect on the approval decision.\n",
      "\n",
      "6. Gender_Male: Indicates whether the applicant is male. A negative SHAP value (-0.04) suggests that being a male has a slightly negative effect on the approval decision.\n",
      "\n",
      "7. Married_Yes: Indicates whether the applicant is married. A positive SHAP value (0.16) indicates that being married has a positive impact on the approval decision.\n",
      "\n",
      "8. Education_Not Graduate: Indicates whether the applicant is a graduate. A positive SHAP value (0.12) suggests that being a non-graduate has a positive impact on the approval decision.\n",
      "\n",
      "9. Self_Employed_Yes: Indicates whether the applicant is self-employed. A positive SHAP value (0.02) suggests that being self-employed has a small positive impact on the approval decision.\n",
      "\n",
      "10. Property_Area_Rural: Indicates whether the property is in a rural area. A positive SHAP value (0.11) suggests that having a rural property has a positive impact on the approval decision.\n",
      "\n",
      "11. Property_Area_Semiurban: Indicates whether the property is in a semi-urban area. A negative SHAP value (-0.12) suggests that having a semi-urban property has a slightly negative effect on the approval decision.\n",
      "\n",
      "12. Property_Area_Urban: Indicates whether the property is in an urban area. A negative SHAP value (-0.07) suggests that having an urban property has a slightly negative effect on the approval decision.\n",
      "\n",
      "13. Credit_History_1.0: Indicates whether the applicant has a credit history. A positive SHAP value (0.55) suggests that having a credit history has a strong positive impact on the approval decision.\n",
      "\n",
      "From the analysis of the SHAP values, it is observed that the most influential features on the model's decision are:\n",
      "- Credit_History_1.0: Having a credit history is the most influential feature in determining the approval decision. It strongly contributes to an increased probability of approval.\n",
      "- ApplicantIncome: Higher income positively impacts the approval decision.\n",
      "- Married_Yes: Being married also has a positive impact on the approval decision.\n",
      "\n",
      "On the other hand, the following features slightly reduce the probability of approval:\n",
      "- CoapplicantIncome: Higher co-applicant income negatively affects the approval decision.\n",
      "- Loan_Amount_Term: Longer loan terms have a slight negative impact on the approval decision.\n",
      "- Property_Area_Semiurban: Having a property in a semi-urban area slightly reduces the probability of approval.\n",
      "\n",
      "It is important to note that these SHAP values indicate the relative importance and effect of each feature on the model's decision. Each feature contributes differently to the final decision, and the model takes into account various factors to make its prediction.\n",
      "\n"
     ]
    }
   ],
   "source": [
    "print(report)"
   ]
  }
 ],
 "metadata": {
  "kernelspec": {
   "display_name": ".env",
   "language": "python",
   "name": "python3"
  },
  "language_info": {
   "codemirror_mode": {
    "name": "ipython",
    "version": 3
   },
   "file_extension": ".py",
   "mimetype": "text/x-python",
   "name": "python",
   "nbconvert_exporter": "python",
   "pygments_lexer": "ipython3",
   "version": "3.10.0"
  }
 },
 "nbformat": 4,
 "nbformat_minor": 2
}
